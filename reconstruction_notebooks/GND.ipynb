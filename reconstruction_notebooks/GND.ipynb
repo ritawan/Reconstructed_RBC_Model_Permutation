{
 "cells": [
  {
   "cell_type": "markdown",
   "id": "bdace534",
   "metadata": {},
   "source": [
    "# Phosphogluconate dehydrogenase (GND)\n",
    "[Net reaction: 6pgc_c + nadp_c → co2_c + nadph_c + ru5p__D_c](http://bigg.ucsd.edu/models/iAB_RBC_283/reactions/GND)\n",
    "\n",
    "\n",
    "## Information for reconstruction\n",
    "### Catalytic and regulatory mechanisms\n",
    "- Catalytic mechanism:\n",
    "$$\\begin{align}\n",
    "\\text{GND_R1}&: \\text{GND}_{c} + \\text{6PGC}_{c} \\rightleftharpoons \\text{GND}_{c}^\\mathrm{6PGC} \\\\\n",
    "\\text{GND_R2}&: \\text{GND}_{c} + \\text{NADP}_{c} \\rightleftharpoons \\text{GND}_{c}^\\mathrm{NADP} \\\\\n",
    "\\text{GND_R3}&: \\text{GND}_{c}^\\mathrm{6PGC} + \\text{NADP}_{c} \\rightleftharpoons \\text{GND}_{c}^\\mathrm{NADP-6PGC} \\\\\n",
    "\\text{GND_R4}&: \\text{GND}_{c}^\\mathrm{NADP} + \\text{6PGC}_{c} \\rightleftharpoons \\text{GND}_{c}^\\mathrm{NADP-6PGC} \\\\\n",
    "\\text{GND_R5}&: \\text{GND}_{c}^\\mathrm{NADP-6PGC} \\rightleftharpoons \\text{GND}_{c}^\\mathrm{NADPH-RU5P^{D}-CO2} \\\\\n",
    "\\text{GND_R6}&: \\text{GND}_{c}^\\mathrm{NADPH-RU5P^{D}-CO2} \\rightleftharpoons \\text{GND}_{c}^\\mathrm{NADPH-RU5P^{D}} + \\text{CO}_{2} \\\\\n",
    "\\text{GND_R7}&: \\text{GND}_{c}^\\mathrm{NADPH-RU5P^{D}} \\rightleftharpoons \\text{GND}_{c}^\\mathrm{NADPH} + \\mathrm{RU5P}_{c}^\\mathrm{D} \\\\\n",
    "\\text{GND_R8}&: \\text{GND}_{c}^\\mathrm{NADPH} \\rightleftharpoons \\text{GND}_{c} + \\text{NADPH}\n",
    "\\end{align}$$\n",
    "\n",
    "\n",
    "- Regulatory mechanism(s):\n",
    "$$\\begin{align}\n",
    "\\text{GND_R9}&: \\text{Uncompetitive inhibition by NADPH}\n",
    "\\end{align}$$\n",
    "\n",
    "\n",
    "### Numerical values\n",
    "- Total enzyme concentration: $\\text{[GND]}_\\mathrm{total} = 0.0004\\ mM$\n",
    "- Dissociation constants:\n",
    "$$\\begin{align}\n",
    "K_\\mathrm{d, 6PGC} &= 0.02\\ mM \\\\\n",
    "K_\\mathrm{d, CO_{2}} &= 0.015\\ mM \\\\ \n",
    "K_\\mathrm{d, NADP} &= 0.0098\\ mM \\\\ \n",
    "K_\\mathrm{d, NADPH} &= 0.0005\\ mM \\\\ \n",
    "K_\\mathrm{d, RU5P^{D}} &= 0.03\\ mM \\\\ \n",
    "K_\\mathrm{i, NADPH} &= 0.03\\ mM \\\\ \n",
    "\\end{align}$$\n",
    "\n",
    "\n",
    "- For the catalyzation step: $K_\\mathrm{GND} = 61416600$"
   ]
  },
  {
   "cell_type": "code",
   "execution_count": 1,
   "id": "928f5a35",
   "metadata": {},
   "outputs": [],
   "source": [
    "from os import path\n",
    "from os.path import join\n",
    "\n",
    "import matplotlib.pyplot as plt\n",
    "\n",
    "from scipy import optimize\n",
    "\n",
    "import sympy as sym\n",
    "\n",
    "import pandas as pd\n",
    "pd.set_option(\"display.max_columns\", 999)\n",
    "\n",
    "import numpy as np\n",
    "\n",
    "from cobra import DictList\n",
    "\n",
    "from mass.util.matrix import matrix_rank\n",
    "from mass import MassMetabolite, Simulation, UnitDefinition, strip_time\n",
    "from mass.enzyme_modules import EnzymeModule\n",
    "from mass.io import json, sbml\n",
    "from mass.util import Keq2k, k2Keq, qcqa_model\n",
    "import mass.test\n",
    "from mass.test import create_test_model\n",
    "\n",
    "from mass.util.matrix import matrix_rank\n",
    "\n",
    "from sympy import Eq, Symbol, lambdify, simplify, solveset\n",
    "INF = float(\"inf\")"
   ]
  },
  {
   "cell_type": "code",
   "execution_count": 2,
   "id": "d70b73af",
   "metadata": {},
   "outputs": [],
   "source": [
    "GND = EnzymeModule(\"GND\", name=\"Phosphogluconate dehydrogenase\", subsystem=\"PentosePhosphatePathway\")"
   ]
  },
  {
   "cell_type": "code",
   "execution_count": 3,
   "id": "141629aa",
   "metadata": {},
   "outputs": [
    {
     "data": {
      "text/plain": [
       "[<MassMetabolite _6pgc_c at 0x7f272b580ad0>,\n",
       " <MassMetabolite co2_c at 0x7f272b580a90>,\n",
       " <MassMetabolite nadp_c at 0x7f272b580b10>,\n",
       " <MassMetabolite nadph_c at 0x7f272b580b50>,\n",
       " <MassMetabolite ru5p__D_c at 0x7f272b580bd0>]"
      ]
     },
     "execution_count": 3,
     "metadata": {},
     "output_type": "execute_result"
    }
   ],
   "source": [
    "_6pgc_c = MassMetabolite(\n",
    "    \"_6pgc_c\",\n",
    "    name=\"6-Phospho-D-gluconate\",\n",
    "    formula=\"C6H10O10P\",\n",
    "    charge=-3,\n",
    "    compartment=\"c\")\n",
    "\n",
    "co2_c = MassMetabolite(\n",
    "    \"co2_c\",\n",
    "    name=\"CO2 CO2\",\n",
    "    formula=\"CO2\",\n",
    "    charge=0,\n",
    "    compartment=\"c\")\n",
    "    \n",
    "nadp_c = MassMetabolite(\n",
    "    \"nadp_c\",\n",
    "    name=\"Nicotinamide adenine dinucleotide phosphate\",\n",
    "    formula=\"C21H25N7O17P3\",\n",
    "    charge=-3,\n",
    "    compartment=\"c\")\n",
    "\n",
    "nadph_c = MassMetabolite(\n",
    "    \"nadph_c\",\n",
    "    name=\"Nicotinamide adenine dinucleotide phosphate - reduced\",\n",
    "    formula=\"C21H26N7O17P3\",\n",
    "    charge=-4,\n",
    "    compartment=\"c\")\n",
    "\n",
    "ru5p__D_c = MassMetabolite(\n",
    "    \"ru5p__D_c\",\n",
    "    name=\"D-Ribulose 5-phosphate\",\n",
    "    formula=\"C5H9O8P\",\n",
    "    charge=-2,\n",
    "    compartment=\"c\")\n",
    "\n",
    "GND.add_metabolites([_6pgc_c, co2_c, nadp_c, nadph_c, ru5p__D_c])\n",
    "\n",
    "GND.enzyme_module_ligands"
   ]
  },
  {
   "cell_type": "code",
   "execution_count": 4,
   "id": "91c2a4db",
   "metadata": {},
   "outputs": [
    {
     "name": "stdout",
     "output_type": "stream",
     "text": [
      "substrates: ['_6pgc_c']\n",
      "cofactors: ['nadp_c']\n",
      "inhibitors: ['nadph_c']\n",
      "products: ['co2_c', 'nadph_c', 'ru5p__D_c']\n"
     ]
    }
   ],
   "source": [
    "# [Net reaction: 6pgc_c + nadp_c → co2_c + nadph_c + ru5p__D_c]\n",
    "GND.enzyme_module_ligands_categorized =  {\n",
    "    \"substrates\": [_6pgc_c],\n",
    "    \"cofactors\": [nadp_c],\n",
    "    \"inhibitors\": [nadph_c],\n",
    "    \"products\": [co2_c, nadph_c, ru5p__D_c]}\n",
    "GND.enzyme_module_ligands_categorized\n",
    "\n",
    "for group in GND.enzyme_module_ligands_categorized:\n",
    "    print(\"{0}: {1}\".format(\n",
    "        group.id, str(sorted([m.id for m in group.members]))))"
   ]
  },
  {
   "cell_type": "code",
   "execution_count": 5,
   "id": "051a4caf",
   "metadata": {
    "scrolled": true
   },
   "outputs": [
    {
     "name": "stdout",
     "output_type": "stream",
     "text": [
      "Bound to sites of gnd_c:\n",
      "{}\n",
      "\n",
      "Bound to sites of gnd_nadp_c:\n",
      "{'nadp_c': 1}\n",
      "\n",
      "Bound to sites of gnd__6pgc_c:\n",
      "{'_6pgc_c': 1}\n",
      "\n",
      "Bound to sites of gnd_nadp__6pgc_c:\n",
      "{'_6pgc_c': 1, 'nadp_c': 1}\n",
      "\n",
      "Bound to sites of gnd_nadph_ru5p__D_co2_c:\n",
      "{'ru5p__D_c': 1, 'co2_c': 1, 'nadph_c': 1}\n",
      "\n",
      "Bound to sites of gnd_nadph_ru5p__D_c:\n",
      "{'ru5p__D_c': 1, 'nadph_c': 1}\n",
      "\n",
      "Bound to sites of gnd_nadph_c:\n",
      "{'nadph_c': 1}\n",
      "\n",
      "Bound to sites of gnd__6pgc_nadph_c:\n",
      "{'nadph_c': 1, '_6pgc_c': 1}\n",
      "\n",
      "Active: ['gnd__6pgc_c', 'gnd_c', 'gnd_nadp__6pgc_c', 'gnd_nadp_c', 'gnd_nadph_c', 'gnd_nadph_ru5p__D_c', 'gnd_nadph_ru5p__D_co2_c']\n",
      "Inhibitive: ['gnd__6pgc_nadph_c']\n"
     ]
    }
   ],
   "source": [
    "gnd_c = GND.make_enzyme_module_form(\n",
    "    \"gnd_c\",\n",
    "    name=\"automatic\",\n",
    "    categories=\"Active\",\n",
    "    compartment=\"c\")\n",
    "\n",
    "gnd_nadp_c = GND.make_enzyme_module_form(\n",
    "    \"gnd_nadp_c\",\n",
    "    name=\"automatic\",\n",
    "    categories=\"Active\",\n",
    "    bound_metabolites={nadp_c: 1},\n",
    "    compartment=\"c\")\n",
    "\n",
    "gnd__6pgc_c = GND.make_enzyme_module_form(\n",
    "    \"gnd__6pgc_c\",\n",
    "    name=\"automatic\",\n",
    "    categories=\"Active\",\n",
    "    bound_metabolites={_6pgc_c: 1},\n",
    "    compartment=\"c\")\n",
    "\n",
    "gnd_nadp__6pgc_c = GND.make_enzyme_module_form(\n",
    "    \"gnd_nadp__6pgc_c\",\n",
    "    name=\"automatic\",\n",
    "    categories=\"Active\",\n",
    "    bound_metabolites={_6pgc_c: 1, nadp_c: 1},\n",
    "    compartment=\"c\")\n",
    "\n",
    "gnd_nadph_ru5p__D_co2_c = GND.make_enzyme_module_form(\n",
    "    \"gnd_nadph_ru5p__D_co2_c\",\n",
    "    name=\"automatic\",\n",
    "    categories=\"Active\",\n",
    "    bound_metabolites={ru5p__D_c: 1, co2_c: 1, nadph_c:1},\n",
    "    compartment=\"c\")\n",
    "\n",
    "gnd_nadph_ru5p__D_c = GND.make_enzyme_module_form(\n",
    "    \"gnd_nadph_ru5p__D_c\",\n",
    "    name=\"automatic\",\n",
    "    categories=\"Active\",\n",
    "    bound_metabolites={ru5p__D_c: 1, nadph_c: 1},\n",
    "    compartment=\"c\")\n",
    "\n",
    "gnd_nadph_c = GND.make_enzyme_module_form(\n",
    "    \"gnd_nadph_c\",\n",
    "    name=\"automatic\",\n",
    "    categories=\"Active\",\n",
    "    bound_metabolites={nadph_c: 1},\n",
    "    compartment=\"c\")\n",
    "\n",
    "\n",
    "gnd__6pgc_nadph_c = GND.make_enzyme_module_form(\n",
    "    \"gnd__6pgc_nadph_c\",\n",
    "    name=\"automatic\",\n",
    "    categories=\"Inhibitive\",\n",
    "    bound_metabolites={nadph_c: 1, _6pgc_c: 1},\n",
    "    compartment=\"c\")\n",
    "\n",
    "# Print automatically generated names\n",
    "for enzyme_form in GND.enzyme_module_forms:\n",
    "    print(\"Bound to sites of {0}:\\n{1}\\n\".format(\n",
    "        enzyme_form.id, {\n",
    "            ligand.id: coeff\n",
    "            for ligand, coeff in enzyme_form.bound_metabolites.items()}))\n",
    "    \n",
    "for group in GND.enzyme_module_forms_categorized:\n",
    "    print(\"{0}: {1}\".format(\n",
    "        group.id, str(sorted([m.id for m in group.members]))))"
   ]
  },
  {
   "cell_type": "code",
   "execution_count": 6,
   "id": "fc3b7de3",
   "metadata": {},
   "outputs": [
    {
     "name": "stdout",
     "output_type": "stream",
     "text": [
      "GND_1: _6pgc_c + gnd_c <=> gnd__6pgc_c\n",
      "GND_2: gnd_c + nadp_c <=> gnd_nadp_c\n",
      "GND_3: gnd__6pgc_c + nadp_c <=> gnd_nadp__6pgc_c\n",
      "GND_4: _6pgc_c + gnd_nadp_c <=> gnd_nadp__6pgc_c\n",
      "GND_5: gnd_nadp__6pgc_c <=> gnd_nadph_ru5p__D_co2_c\n",
      "GND_6: gnd_nadph_ru5p__D_co2_c <=> co2_c + gnd_nadph_ru5p__D_c\n",
      "GND_7: gnd_nadph_ru5p__D_c <=> gnd_nadph_c + ru5p__D_c\n",
      "GND_8: gnd_nadph_c <=> gnd_c + nadph_c\n",
      "GND_9: gnd__6pgc_c + nadph_c <=> gnd__6pgc_nadph_c\n",
      "\n",
      "\n",
      "_6pgc_c_binding: ['GND_1', 'GND_4']\n",
      "nadp_c_binding: ['GND_2', 'GND_3']\n",
      "catalyzation: ['GND_5']\n",
      "co2_c_releasing: ['GND_6']\n",
      "ru5p__D_c_releasing: ['GND_7']\n",
      "nadph_c_releasing: ['GND_8']\n",
      "nadph_c_inhibiting: ['GND_9']\n"
     ]
    }
   ],
   "source": [
    "GND_1 = GND.make_enzyme_module_reaction(\n",
    "    \"GND_1\",\n",
    "    name=\"Automatic\",\n",
    "    subsystem=\"PentosePhosphatePathway\",\n",
    "    reversible=True,\n",
    "    categories=\"_6pgc_c_binding\",\n",
    "    metabolites_to_add={\n",
    "        \"gnd_c\": -1,\n",
    "        \"_6pgc_c\": -1,\n",
    "        \"gnd__6pgc_c\": 1})\n",
    "\n",
    "GND_2 = GND.make_enzyme_module_reaction(\n",
    "    \"GND_2\",\n",
    "    name=\"Automatic\",\n",
    "    subsystem=\"PentosePhosphatePathway\",\n",
    "    reversible=True,\n",
    "    categories=\"nadp_c_binding\",\n",
    "    metabolites_to_add={\n",
    "        \"gnd_c\": -1,\n",
    "        \"nadp_c\": -1,\n",
    "        \"gnd_nadp_c\": 1})\n",
    "\n",
    "GND_3 = GND.make_enzyme_module_reaction(\n",
    "    \"GND_3\",\n",
    "    name=\"Automatic\",\n",
    "    subsystem=\"PentosePhosphatePathway\",\n",
    "    reversible=True,\n",
    "    categories=\"nadp_c_binding\",\n",
    "    metabolites_to_add={\n",
    "        \"gnd__6pgc_c\": -1,\n",
    "        \"nadp_c\": -1,\n",
    "        \"gnd_nadp__6pgc_c\": 1})\n",
    "\n",
    "GND_4 = GND.make_enzyme_module_reaction(\n",
    "    \"GND_4\",\n",
    "    name=\"Automatic\",\n",
    "    subsystem=\"PentosePhosphatePathway\",\n",
    "    reversible=True,\n",
    "    categories=\"_6pgc_c_binding\",\n",
    "    metabolites_to_add={\n",
    "        \"gnd_nadp_c\": -1,\n",
    "        \"_6pgc_c\": -1,\n",
    "        \"gnd_nadp__6pgc_c\": 1})\n",
    "\n",
    "GND_5 = GND.make_enzyme_module_reaction(\n",
    "    \"GND_5\",\n",
    "    name=\"Automatic\",\n",
    "    subsystem=\"PentosePhosphatePathway\",\n",
    "    reversible=True,\n",
    "    categories=\"catalyzation\",\n",
    "    metabolites_to_add={\n",
    "        \"gnd_nadp__6pgc_c\": -1,\n",
    "        \"gnd_nadph_ru5p__D_co2_c\": 1})\n",
    "\n",
    "GND_6 = GND.make_enzyme_module_reaction(\n",
    "    \"GND_6\",\n",
    "    name=\"Automatic\",\n",
    "    subsystem=\"PentosePhosphatePathway\",\n",
    "    reversible=True,\n",
    "    categories=\"co2_c_releasing\",\n",
    "    metabolites_to_add={\n",
    "        \"gnd_nadph_ru5p__D_co2_c\": -1,\n",
    "        \"gnd_nadph_ru5p__D_c\": 1,\n",
    "        \"co2_c\": 1})\n",
    "\n",
    "GND_7 = GND.make_enzyme_module_reaction(\n",
    "    \"GND_7\",\n",
    "    name=\"Automatic\",\n",
    "    subsystem=\"PentosePhosphatePathway\",\n",
    "    reversible=True,\n",
    "    categories=\"ru5p__D_c_releasing\",\n",
    "    metabolites_to_add={\n",
    "        \"gnd_nadph_ru5p__D_c\": -1,\n",
    "        \"gnd_nadph_c\": 1,\n",
    "        \"ru5p__D_c\": 1})\n",
    "\n",
    "GND_8 = GND.make_enzyme_module_reaction(\n",
    "    \"GND_8\",\n",
    "    name=\"Automatic\",\n",
    "    subsystem=\"PentosePhosphatePathway\",\n",
    "    reversible=True,\n",
    "    categories=\"nadph_c_releasing\",\n",
    "    metabolites_to_add={\n",
    "        \"gnd_nadph_c\": -1,\n",
    "        \"gnd_c\": 1,\n",
    "        \"nadph_c\": 1})\n",
    "\n",
    "GND_9 = GND.make_enzyme_module_reaction(\n",
    "    \"GND_9\",\n",
    "    name=\"Automatic\",\n",
    "    subsystem=\"PentosePhosphatePathway\",\n",
    "    reversible=True,\n",
    "    categories=\"nadph_c_inhibiting\",\n",
    "    metabolites_to_add={\n",
    "        \"gnd__6pgc_c\": -1,\n",
    "        \"nadph_c\": -1,\n",
    "        \"gnd__6pgc_nadph_c\": 1})\n",
    "\n",
    "for reaction in GND.enzyme_module_reactions:\n",
    "    print(reaction)\n",
    "    \n",
    "print('\\n')\n",
    "for group in GND.enzyme_module_reactions_categorized:\n",
    "    print(\"{0}: {1}\".format(\n",
    "        group.id, str(sorted([m.id for m in group.members]))))"
   ]
  },
  {
   "cell_type": "markdown",
   "id": "89bc6714",
   "metadata": {},
   "source": [
    "## Defining equilibrium constant"
   ]
  },
  {
   "cell_type": "markdown",
   "id": "c33dd825",
   "metadata": {},
   "source": [
    "## Solve steady state concentration symbolically"
   ]
  },
  {
   "cell_type": "code",
   "execution_count": 7,
   "id": "67629498",
   "metadata": {},
   "outputs": [
    {
     "name": "stdout",
     "output_type": "stream",
     "text": [
      "\n",
      "_6pgc_c_binding\n",
      "---------------\n",
      "GND_1: kf_GND_P*(_6pgc_c(t)*gnd_c(t) - gnd__6pgc_c(t)/Keq_GND_P)\n",
      "GND_4: kf_GND_P*(_6pgc_c(t)*gnd_nadp_c(t) - gnd_nadp__6pgc_c(t)/Keq_GND_P)\n",
      "\n",
      "nadp_c_binding\n",
      "--------------\n",
      "GND_2: kf_GND_N*(gnd_c(t)*nadp_c(t) - gnd_nadp_c(t)/Keq_GND_N)\n",
      "GND_3: kf_GND_N*(gnd__6pgc_c(t)*nadp_c(t) - gnd_nadp__6pgc_c(t)/Keq_GND_N)\n"
     ]
    }
   ],
   "source": [
    "from operator import attrgetter\n",
    "\n",
    "for ligand, pid in zip([_6pgc_c, nadp_c],[\"P\", \"N\"]):\n",
    "    # Get the group of reactions corresponding to the ligand\n",
    "    category = \"_\".join((ligand.id, \"binding\"))\n",
    "    group = GND.enzyme_module_reactions_categorized.get_by_id(category)\n",
    "\n",
    "    # Unify the parameters\n",
    "    GND.unify_rate_parameters(\n",
    "        group.members, new_parameter_id=pid, enzyme_prefix=True)\n",
    "\n",
    "    # Print the new reaction rates\n",
    "    print(\"\\n\" + category + \"\\n\" + \"-\" * len(category))\n",
    "    for reaction in sorted(group.members, key=attrgetter(\"id\")):\n",
    "        print(reaction.id + \": \" + str(reaction.rate))"
   ]
  },
  {
   "cell_type": "code",
   "execution_count": 8,
   "id": "6195d136",
   "metadata": {},
   "outputs": [
    {
     "data": {
      "text/html": [
       "<div>\n",
       "<style scoped>\n",
       "    .dataframe tbody tr th:only-of-type {\n",
       "        vertical-align: middle;\n",
       "    }\n",
       "\n",
       "    .dataframe tbody tr th {\n",
       "        vertical-align: top;\n",
       "    }\n",
       "\n",
       "    .dataframe thead th {\n",
       "        text-align: right;\n",
       "    }\n",
       "</style>\n",
       "<table border=\"1\" class=\"dataframe\">\n",
       "  <thead>\n",
       "    <tr style=\"text-align: right;\">\n",
       "      <th></th>\n",
       "      <th>GND_1</th>\n",
       "      <th>GND_2</th>\n",
       "      <th>GND_3</th>\n",
       "      <th>GND_4</th>\n",
       "      <th>GND_5</th>\n",
       "      <th>GND_6</th>\n",
       "      <th>GND_7</th>\n",
       "      <th>GND_8</th>\n",
       "      <th>GND_9</th>\n",
       "    </tr>\n",
       "  </thead>\n",
       "  <tbody>\n",
       "    <tr>\n",
       "      <th>gnd_c</th>\n",
       "      <td>-1</td>\n",
       "      <td>-1</td>\n",
       "      <td>0</td>\n",
       "      <td>0</td>\n",
       "      <td>0</td>\n",
       "      <td>0</td>\n",
       "      <td>0</td>\n",
       "      <td>1</td>\n",
       "      <td>0</td>\n",
       "    </tr>\n",
       "    <tr>\n",
       "      <th>gnd_nadp_c</th>\n",
       "      <td>0</td>\n",
       "      <td>1</td>\n",
       "      <td>0</td>\n",
       "      <td>-1</td>\n",
       "      <td>0</td>\n",
       "      <td>0</td>\n",
       "      <td>0</td>\n",
       "      <td>0</td>\n",
       "      <td>0</td>\n",
       "    </tr>\n",
       "    <tr>\n",
       "      <th>gnd__6pgc_c</th>\n",
       "      <td>1</td>\n",
       "      <td>0</td>\n",
       "      <td>-1</td>\n",
       "      <td>0</td>\n",
       "      <td>0</td>\n",
       "      <td>0</td>\n",
       "      <td>0</td>\n",
       "      <td>0</td>\n",
       "      <td>-1</td>\n",
       "    </tr>\n",
       "    <tr>\n",
       "      <th>gnd_nadp__6pgc_c</th>\n",
       "      <td>0</td>\n",
       "      <td>0</td>\n",
       "      <td>1</td>\n",
       "      <td>1</td>\n",
       "      <td>-1</td>\n",
       "      <td>0</td>\n",
       "      <td>0</td>\n",
       "      <td>0</td>\n",
       "      <td>0</td>\n",
       "    </tr>\n",
       "    <tr>\n",
       "      <th>gnd_nadph_ru5p__D_co2_c</th>\n",
       "      <td>0</td>\n",
       "      <td>0</td>\n",
       "      <td>0</td>\n",
       "      <td>0</td>\n",
       "      <td>1</td>\n",
       "      <td>-1</td>\n",
       "      <td>0</td>\n",
       "      <td>0</td>\n",
       "      <td>0</td>\n",
       "    </tr>\n",
       "    <tr>\n",
       "      <th>gnd_nadph_ru5p__D_c</th>\n",
       "      <td>0</td>\n",
       "      <td>0</td>\n",
       "      <td>0</td>\n",
       "      <td>0</td>\n",
       "      <td>0</td>\n",
       "      <td>1</td>\n",
       "      <td>-1</td>\n",
       "      <td>0</td>\n",
       "      <td>0</td>\n",
       "    </tr>\n",
       "    <tr>\n",
       "      <th>gnd_nadph_c</th>\n",
       "      <td>0</td>\n",
       "      <td>0</td>\n",
       "      <td>0</td>\n",
       "      <td>0</td>\n",
       "      <td>0</td>\n",
       "      <td>0</td>\n",
       "      <td>1</td>\n",
       "      <td>-1</td>\n",
       "      <td>0</td>\n",
       "    </tr>\n",
       "    <tr>\n",
       "      <th>gnd__6pgc_nadph_c</th>\n",
       "      <td>0</td>\n",
       "      <td>0</td>\n",
       "      <td>0</td>\n",
       "      <td>0</td>\n",
       "      <td>0</td>\n",
       "      <td>0</td>\n",
       "      <td>0</td>\n",
       "      <td>0</td>\n",
       "      <td>1</td>\n",
       "    </tr>\n",
       "  </tbody>\n",
       "</table>\n",
       "</div>"
      ],
      "text/plain": [
       "                         GND_1  GND_2  GND_3  GND_4  GND_5  GND_6  GND_7  \\\n",
       "gnd_c                       -1     -1      0      0      0      0      0   \n",
       "gnd_nadp_c                   0      1      0     -1      0      0      0   \n",
       "gnd__6pgc_c                  1      0     -1      0      0      0      0   \n",
       "gnd_nadp__6pgc_c             0      0      1      1     -1      0      0   \n",
       "gnd_nadph_ru5p__D_co2_c      0      0      0      0      1     -1      0   \n",
       "gnd_nadph_ru5p__D_c          0      0      0      0      0      1     -1   \n",
       "gnd_nadph_c                  0      0      0      0      0      0      1   \n",
       "gnd__6pgc_nadph_c            0      0      0      0      0      0      0   \n",
       "\n",
       "                         GND_8  GND_9  \n",
       "gnd_c                        1      0  \n",
       "gnd_nadp_c                   0      0  \n",
       "gnd__6pgc_c                  0     -1  \n",
       "gnd_nadp__6pgc_c             0      0  \n",
       "gnd_nadph_ru5p__D_co2_c      0      0  \n",
       "gnd_nadph_ru5p__D_c          0      0  \n",
       "gnd_nadph_c                 -1      0  \n",
       "gnd__6pgc_nadph_c            0      1  "
      ]
     },
     "execution_count": 8,
     "metadata": {},
     "output_type": "execute_result"
    }
   ],
   "source": [
    "GND.update_S(array_type=\"DataFrame\", dtype=int)\n",
    "GND.S[5:]"
   ]
  },
  {
   "cell_type": "code",
   "execution_count": 9,
   "id": "1b2f31fb",
   "metadata": {},
   "outputs": [
    {
     "name": "stdout",
     "output_type": "stream",
     "text": [
      "Rank Deficiency: 1\n"
     ]
    }
   ],
   "source": [
    "ode_dict = {\n",
    "    enzyme_form.id: Eq(strip_time(enzyme_form.ode), 0)\n",
    "    for enzyme_form in GND.enzyme_module_forms}\n",
    "# Matrix rank of enzyme stoichiometric matrix without substrates\n",
    "rank = matrix_rank(GND.S[5:])\n",
    "print(\"Rank Deficiency: {0}\".format(len(ode_dict) - rank))"
   ]
  },
  {
   "cell_type": "code",
   "execution_count": 10,
   "id": "eb742307",
   "metadata": {},
   "outputs": [
    {
     "data": {
      "text/plain": [
       "{'gnd_c': Eq(kf_GND_8*(gnd_nadph_c - gnd_c*nadph_c/Keq_GND_8) - kf_GND_N*(gnd_c*nadp_c - gnd_nadp_c/Keq_GND_N) - kf_GND_P*(_6pgc_c*gnd_c - gnd__6pgc_c/Keq_GND_P), 0),\n",
       " 'gnd_nadp_c': Eq(kf_GND_N*(gnd_c*nadp_c - gnd_nadp_c/Keq_GND_N) - kf_GND_P*(_6pgc_c*gnd_nadp_c - gnd_nadp__6pgc_c/Keq_GND_P), 0),\n",
       " 'gnd__6pgc_c': Eq(-kf_GND_9*(gnd__6pgc_c*nadph_c - gnd__6pgc_nadph_c/Keq_GND_9) - kf_GND_N*(gnd__6pgc_c*nadp_c - gnd_nadp__6pgc_c/Keq_GND_N) + kf_GND_P*(_6pgc_c*gnd_c - gnd__6pgc_c/Keq_GND_P), 0),\n",
       " 'gnd_nadp__6pgc_c': Eq(-kf_GND_5*(gnd_nadp__6pgc_c - gnd_nadph_ru5p__D_co2_c/Keq_GND_5) + kf_GND_N*(gnd__6pgc_c*nadp_c - gnd_nadp__6pgc_c/Keq_GND_N) + kf_GND_P*(_6pgc_c*gnd_nadp_c - gnd_nadp__6pgc_c/Keq_GND_P), 0),\n",
       " 'gnd_nadph_ru5p__D_co2_c': Eq(kf_GND_5*(gnd_nadp__6pgc_c - gnd_nadph_ru5p__D_co2_c/Keq_GND_5) - kf_GND_6*(gnd_nadph_ru5p__D_co2_c - co2_c*gnd_nadph_ru5p__D_c/Keq_GND_6), 0),\n",
       " 'gnd_nadph_ru5p__D_c': Eq(kf_GND_6*(gnd_nadph_ru5p__D_co2_c - co2_c*gnd_nadph_ru5p__D_c/Keq_GND_6) - kf_GND_7*(gnd_nadph_ru5p__D_c - gnd_nadph_c*ru5p__D_c/Keq_GND_7), 0),\n",
       " 'gnd_nadph_c': Eq(kf_GND_7*(gnd_nadph_ru5p__D_c - gnd_nadph_c*ru5p__D_c/Keq_GND_7) - kf_GND_8*(gnd_nadph_c - gnd_c*nadph_c/Keq_GND_8), 0),\n",
       " 'gnd__6pgc_nadph_c': Eq(kf_GND_9*(gnd__6pgc_c*nadph_c - gnd__6pgc_nadph_c/Keq_GND_9), 0)}"
      ]
     },
     "execution_count": 10,
     "metadata": {},
     "output_type": "execute_result"
    }
   ],
   "source": [
    "ode_dict"
   ]
  },
  {
   "cell_type": "code",
   "execution_count": 11,
   "id": "b45943f0",
   "metadata": {},
   "outputs": [],
   "source": [
    "enzyme_solutions = {}\n",
    "\n",
    "\n",
    "enzyme_module_forms = GND.enzyme_module_forms.copy()\n",
    "enzyme_module_forms.reverse() #reverses the order, assumes you defined forms in substrate->product direction\n",
    "\n",
    "    \n",
    "for enzyme_form in enzyme_module_forms:\n",
    "    # Skip dependent variable\n",
    "    if enzyme_form.id == \"gnd_c\":\n",
    "        continue\n",
    "    # Get the ODE for the enzyme form from the ODE dict\n",
    "    equation = ode_dict[enzyme_form.id]\n",
    "    \n",
    "    equation = simplify(equation)\n",
    "    \n",
    "    \n",
    "    # Solve the equation for the enzyme form, substituting\n",
    "    # previously found enzyme form solutions into the equation\n",
    "    \n",
    "    solution = solveset(equation.subs(enzyme_solutions),\n",
    "                        enzyme_form.id)\n",
    "    # Store the solution\n",
    "    enzyme_solutions[enzyme_form.id] = list(solution)[0]\n",
    "    \n",
    "    \n",
    "    # Substitute the new solution into existing solutions\n",
    "    enzyme_solutions.update({\n",
    "        enzyme_form: simplify(sol.subs(enzyme_solutions))\n",
    "        for enzyme_form, sol in enzyme_solutions.items()})\n",
    "\n",
    "args = set()\n",
    "for solution in enzyme_solutions.values():\n",
    "    args.update(solution.atoms(Symbol))"
   ]
  },
  {
   "cell_type": "markdown",
   "id": "02bf2a77",
   "metadata": {},
   "source": [
    "### Define rate equation"
   ]
  },
  {
   "cell_type": "code",
   "execution_count": 12,
   "id": "b259d3a1",
   "metadata": {},
   "outputs": [
    {
     "name": "stdout",
     "output_type": "stream",
     "text": [
      "kf_GND_5*(Keq_GND_5*gnd_nadp__6pgc_c(t) - gnd_nadph_ru5p__D_co2_c(t))/Keq_GND_5\n"
     ]
    }
   ],
   "source": [
    "# Get the catalyzation reactions\n",
    "catalyzation_group = GND.enzyme_module_reactions_categorized.get_by_id(\n",
    "    \"catalyzation\")\n",
    "\n",
    "GND.make_enzyme_rate_equation(catalyzation_group.members,\n",
    "                               use_rates=True,\n",
    "                               update_enzyme=True)\n",
    "\n",
    "print(GND.enzyme_rate_equation)"
   ]
  },
  {
   "cell_type": "code",
   "execution_count": 13,
   "id": "7251680a",
   "metadata": {},
   "outputs": [
    {
     "name": "stdout",
     "output_type": "stream",
     "text": [
      "v_GND - kf_GND_5*(Keq_GND_5*gnd_nadp__6pgc_c - gnd_nadph_ru5p__D_co2_c)/Keq_GND_5\n"
     ]
    }
   ],
   "source": [
    "enzyme_rate_equation = strip_time(GND.enzyme_rate_error(use_values=False))\n",
    "print(enzyme_rate_equation)"
   ]
  },
  {
   "cell_type": "code",
   "execution_count": 14,
   "id": "c76c9901",
   "metadata": {},
   "outputs": [],
   "source": [
    "enzyme_rate_equation = simplify(enzyme_rate_equation)"
   ]
  },
  {
   "cell_type": "code",
   "execution_count": 15,
   "id": "fd582aa3",
   "metadata": {},
   "outputs": [
    {
     "name": "stdout",
     "output_type": "stream",
     "text": [
      "{Keq_GND_9, Keq_GND_6, Keq_GND_N, Keq_GND_8, nadp_c, Keq_GND_P, kf_GND_7, _6pgc_c, kf_GND_8, v_GND, kf_GND_N, kf_GND_P, Keq_GND_5, nadph_c, Keq_GND_7, co2_c, ru5p__D_c, kf_GND_5, kf_GND_6}\n"
     ]
    }
   ],
   "source": [
    "# Solve for last unknown concentration symbolically\n",
    "\n",
    "enzyme_rate_equation = simplify(enzyme_rate_equation)\n",
    "\n",
    "solution = solveset(enzyme_rate_equation.subs(enzyme_solutions),\n",
    "                    \"gnd_c\")\n",
    "\n",
    "# Update solution dictionary with the new solution\n",
    "enzyme_solutions[\"gnd_c\"] = list(solution)[0]\n",
    "\n",
    "# Update solutions with free variable solutions\n",
    "enzyme_solutions = {\n",
    "    enzyme_form: simplify(solution.subs(enzyme_solutions))\n",
    "    for enzyme_form, solution in enzyme_solutions.items()}\n",
    "\n",
    "args = set()\n",
    "for solution in enzyme_solutions.values():\n",
    "    args.update(solution.atoms(Symbol))\n",
    "print(args)"
   ]
  },
  {
   "cell_type": "code",
   "execution_count": 16,
   "id": "be9e1446",
   "metadata": {},
   "outputs": [],
   "source": [
    "numerical_values = {\n",
    "    \"Keq_GND_P\": 1/0.02,\n",
    "    \"Keq_GND_N\": 1/0.0098,\n",
    "    \"Keq_GND_5\": 61416600,\n",
    "    \"Keq_GND_6\": 0.015,\n",
    "    \"Keq_GND_7\": 0.03, \n",
    "    \"Keq_GND_8\": 0.0005,\n",
    "    \"Keq_GND_9\": 1/0.03}\n",
    "# Update the model with the parameters\n",
    "GND.update_parameters(numerical_values)"
   ]
  },
  {
   "cell_type": "code",
   "execution_count": 17,
   "id": "c55257b1",
   "metadata": {},
   "outputs": [],
   "source": [
    "# import rbc model\n",
    "from os.path import join\n",
    "\n",
    "core_rbc = json.load_json_model(join(\"\", \"../models/RBC_RBC.json\"))"
   ]
  },
  {
   "cell_type": "code",
   "execution_count": 18,
   "id": "552d26c5",
   "metadata": {},
   "outputs": [],
   "source": [
    "# Get steady state flux for EnzymeModule\n",
    "GND.enzyme_rate = core_rbc.reactions.get_by_id(\"GND\").steady_state_flux\n",
    "numerical_values[GND.enzyme_flux_symbol_str] = GND.enzyme_rate\n",
    "\n",
    "# Get the ligand concentrations\n",
    "for met in GND.enzyme_module_ligands:\n",
    "    concentration = core_rbc.metabolites.get_by_id(met.id).initial_condition\n",
    "    # Set the ligand initial condition and add to numercal values dictionary\n",
    "    met.initial_condition = concentration\n",
    "    numerical_values[met.id] = concentration"
   ]
  },
  {
   "cell_type": "code",
   "execution_count": 19,
   "id": "3f1c44f3",
   "metadata": {},
   "outputs": [
    {
     "name": "stdout",
     "output_type": "stream",
     "text": [
      "{kf_GND_N, kf_GND_P, kf_GND_7, kf_GND_5, kf_GND_8, kf_GND_6}\n"
     ]
    }
   ],
   "source": [
    "enzyme_solutions = {\n",
    "    enzyme_form: simplify(sol.subs(numerical_values))\n",
    "    for enzyme_form, sol in enzyme_solutions.items()}\n",
    "\n",
    "args = set()\n",
    "for solution in enzyme_solutions.values():\n",
    "    args.update(solution.atoms(Symbol))\n",
    "print(args)"
   ]
  },
  {
   "cell_type": "code",
   "execution_count": 20,
   "id": "f3f99120",
   "metadata": {},
   "outputs": [
    {
     "data": {
      "text/plain": [
       "{'Keq_GND_P': 50.0,\n",
       " 'Keq_GND_N': 102.04081632653062,\n",
       " 'Keq_GND_5': 61416600,\n",
       " 'Keq_GND_6': 0.015,\n",
       " 'Keq_GND_7': 0.03,\n",
       " 'Keq_GND_8': 0.0005,\n",
       " 'Keq_GND_9': 33.333333333333336,\n",
       " 'v_GND': 0.2100367454564436,\n",
       " '_6pgc_c': 0.04877853482686691,\n",
       " 'co2_c': 1.0000021003674546,\n",
       " 'nadp_c': 0.0001541406384121956,\n",
       " 'nadph_c': 0.06584585936158788,\n",
       " 'ru5p__D_c': 0.005274134497567503}"
      ]
     },
     "execution_count": 20,
     "metadata": {},
     "output_type": "execute_result"
    }
   ],
   "source": [
    "numerical_values"
   ]
  },
  {
   "cell_type": "markdown",
   "id": "e2579b3d",
   "metadata": {},
   "source": [
    "## Approximate rate constant"
   ]
  },
  {
   "cell_type": "code",
   "execution_count": 21,
   "id": "eb883599",
   "metadata": {},
   "outputs": [],
   "source": [
    "from scipy.optimize import minimize"
   ]
  },
  {
   "cell_type": "code",
   "execution_count": 22,
   "id": "c9e68bee",
   "metadata": {},
   "outputs": [
    {
     "name": "stdout",
     "output_type": "stream",
     "text": [
      "Abs(-GND_Total + gnd__6pgc_c + gnd__6pgc_nadph_c + gnd_c + gnd_nadp__6pgc_c + gnd_nadp_c + gnd_nadph_c + gnd_nadph_ru5p__D_c + gnd_nadph_ru5p__D_co2_c)\n"
     ]
    }
   ],
   "source": [
    "enzyme_total_error = abs(\n",
    "    Symbol(GND.enzyme_total_symbol_str)\n",
    "    - strip_time(GND.enzyme_concentration_total_equation))\n",
    "print(enzyme_total_error)"
   ]
  },
  {
   "cell_type": "code",
   "execution_count": 23,
   "id": "5416b4cf",
   "metadata": {},
   "outputs": [
    {
     "name": "stdout",
     "output_type": "stream",
     "text": [
      "Abs((366100.160704526*kf_GND_5*kf_GND_6*kf_GND_7*kf_GND_8*kf_GND_N**2 - 0.0004*kf_GND_5*kf_GND_6*kf_GND_7*kf_GND_8*kf_GND_N*kf_GND_P*(50.7864318286337*kf_GND_N + 350.910891973811*kf_GND_P) + 49541976.2402509*kf_GND_5*kf_GND_6*kf_GND_7*kf_GND_8*kf_GND_N*kf_GND_P + 237518246.530937*kf_GND_5*kf_GND_6*kf_GND_7*kf_GND_8*kf_GND_P**2 + 137.653864111917*kf_GND_5*kf_GND_6*kf_GND_7*kf_GND_N**2*kf_GND_P + 951.124906788986*kf_GND_5*kf_GND_6*kf_GND_7*kf_GND_N*kf_GND_P**2 + 722.318594543917*kf_GND_5*kf_GND_6*kf_GND_8*kf_GND_N**2*kf_GND_P + 4990.88936107868*kf_GND_5*kf_GND_6*kf_GND_8*kf_GND_N*kf_GND_P**2 + 10.6747512444392*kf_GND_5*kf_GND_7*kf_GND_8*kf_GND_N**2*kf_GND_P + 73.7576227726388*kf_GND_5*kf_GND_7*kf_GND_8*kf_GND_N*kf_GND_P**2 + 475019.925046548*kf_GND_6*kf_GND_7*kf_GND_8*kf_GND_N**2*kf_GND_P + 3282169.26453645*kf_GND_6*kf_GND_7*kf_GND_8*kf_GND_N*kf_GND_P**2)/(kf_GND_5*kf_GND_6*kf_GND_7*kf_GND_8*kf_GND_N*kf_GND_P*(50.7864318286337*kf_GND_N + 350.910891973811*kf_GND_P)))\n"
     ]
    }
   ],
   "source": [
    "GND.enzyme_concentration_total = 0.0004\n",
    "enzyme_total_error = enzyme_total_error.subs({\n",
    "    GND.enzyme_total_symbol_str: GND.enzyme_concentration_total})\n",
    "\n",
    "enzyme_total_error = simplify(enzyme_total_error.subs(enzyme_solutions))\n",
    "print(enzyme_total_error)"
   ]
  },
  {
   "cell_type": "code",
   "execution_count": 24,
   "id": "dc41732c",
   "metadata": {},
   "outputs": [],
   "source": [
    "# Sort the arguments to ensure input format remains consistent\n",
    "args = sorted(list(map(str, args)))\n",
    "# Use lambdify to make objective function as a lambda function\n",
    "obj_fun = lambda x: lambdify(args, enzyme_total_error)(*x)"
   ]
  },
  {
   "cell_type": "code",
   "execution_count": 25,
   "id": "4899f5d6",
   "metadata": {},
   "outputs": [
    {
     "name": "stdout",
     "output_type": "stream",
     "text": [
      "`xtol` termination condition is satisfied.\n",
      "Number of iterations: 84, function evaluations: 210, CG iterations: 86, optimality: 1.22e-13, constraint violation: 0.00e+00, execution time:  3.3 s.\n",
      "\n",
      "Optimization Success: True\n",
      "Optimization Optimality: 1.2233e-13\n",
      "Parameter Solutions: {'kf_GND_5': 313196521.79141146, 'kf_GND_6': 283470865.43125886, 'kf_GND_7': 283515375.40278524, 'kf_GND_8': 283478760.4748454, 'kf_GND_N': 2447278010.203764, 'kf_GND_P': 393721639.35251254}\n",
      "Concentration Error: 2.7039e-5\n",
      "{'kf_GND_5': 313196521.79141146, 'kf_GND_6': 283470865.43125886, 'kf_GND_7': 283515375.40278524, 'kf_GND_8': 283478760.4748454, 'kf_GND_N': 2447278010.203764, 'kf_GND_P': 393721639.35251254}\n"
     ]
    }
   ],
   "source": [
    "# Minimize the objective function, initial guess based on publication values\n",
    "initial_guess = [1e6,1e6,1e6,1e6,1e6,1e6]\n",
    "variable_bounds = ((0, 1e10), (0, 1e10), (0, 1e10), (0, 1e10), (0, 1e10), (0, 1e10))\n",
    "solution = minimize(obj_fun, x0=initial_guess,\n",
    "                    method=\"trust-constr\", \n",
    "                    bounds=variable_bounds, \n",
    "                    # constraints={\"type\": \"eq\", \"fun\": obj_fun},\n",
    "                    options={\"gtol\": 1e-20, \"xtol\": 1e-20, \"maxiter\": 1e4, \"disp\": True})\n",
    "\n",
    "print(\"\\nOptimization Success: {0}\".format(solution.success))\n",
    "\n",
    "if solution.success:\n",
    "    #Update the parameter values dictionary with the feasible solution\n",
    "    rate_constants = dict(zip(args, solution.x))\n",
    "    print(\"Optimization Optimality: {0:.4e}\".format(solution.optimality))\n",
    "    print(\"Parameter Solutions: {:}\".format(str({arg:rate_constants[arg] for arg in args})))\n",
    "    #Plug solutions back into constraints for validation\n",
    "    print(\"Concentration Error: {0:.4e}\".format(enzyme_total_error.subs(rate_constants)))\n",
    "    \n",
    "# Map solution array to variables\n",
    "print(rate_constants)"
   ]
  },
  {
   "cell_type": "code",
   "execution_count": 26,
   "id": "ae969de5",
   "metadata": {},
   "outputs": [],
   "source": [
    "rate_constants[\"kf_GND_9\"] = 1e6\n",
    "GND.update_parameters(rate_constants)"
   ]
  },
  {
   "cell_type": "markdown",
   "id": "a0b6a38e",
   "metadata": {},
   "source": [
    "## Calculate numerical value"
   ]
  },
  {
   "cell_type": "code",
   "execution_count": 27,
   "id": "c99d566c",
   "metadata": {},
   "outputs": [
    {
     "name": "stdout",
     "output_type": "stream",
     "text": [
      "gnd__6pgc_nadph_c: 1.120397e-06\n",
      "gnd_nadph_c: 2.877282e-05\n",
      "gnd_nadph_ru5p__D_c: 5.059132e-06\n",
      "gnd_nadph_ru5p__D_co2_c: 3.372769e-04\n",
      "gnd_nadp__6pgc_c: 6.761145e-10\n",
      "gnd__6pgc_c: 5.104636e-07\n",
      "gnd_nadp_c: 2.031568e-09\n",
      "gnd_c: 2.184806e-07\n"
     ]
    }
   ],
   "source": [
    "for enzyme_form, solution in enzyme_solutions.items():\n",
    "    # Get the enzyme form object, determine the steady state concentration\n",
    "    enzyme_form = GND.enzyme_module_forms.get_by_id(enzyme_form)\n",
    "    enzyme_form.initial_condition = float(solution.subs(rate_constants))\n",
    "    print(\"{0}: {1:e}\".format(enzyme_form.id,\n",
    "                              enzyme_form.initial_condition))"
   ]
  },
  {
   "cell_type": "markdown",
   "id": "48c2436e",
   "metadata": {},
   "source": [
    "## Error Value"
   ]
  },
  {
   "cell_type": "code",
   "execution_count": 28,
   "id": "e5a6a366",
   "metadata": {},
   "outputs": [
    {
     "name": "stdout",
     "output_type": "stream",
     "text": [
      "Total Enzyme Concentration Error: 2.7039049015637764e-05\n"
     ]
    }
   ],
   "source": [
    "print(\"Total Enzyme Concentration Error: {0}\".format(\n",
    "    GND.enzyme_concentration_total_error(use_values=True)))"
   ]
  },
  {
   "cell_type": "code",
   "execution_count": 29,
   "id": "839d6040",
   "metadata": {},
   "outputs": [
    {
     "name": "stdout",
     "output_type": "stream",
     "text": [
      "Enzyme Rate Error: 5.551115123125783e-17\n"
     ]
    }
   ],
   "source": [
    "print(\"Enzyme Rate Error: {0}\".format(\n",
    "    GND.enzyme_rate_error(use_values=True)))"
   ]
  },
  {
   "cell_type": "markdown",
   "id": "29264167",
   "metadata": {},
   "source": [
    "## Quality Control and Assurance Check"
   ]
  },
  {
   "cell_type": "code",
   "execution_count": 30,
   "id": "3b358f58",
   "metadata": {
    "scrolled": true
   },
   "outputs": [
    {
     "name": "stdout",
     "output_type": "stream",
     "text": [
      "╒══════════════════════════════════════════╕\n",
      "│ MODEL ID: GND                            │\n",
      "│ SIMULATABLE: True                        │\n",
      "│ PARAMETERS NUMERICALY CONSISTENT: True   │\n",
      "╞══════════════════════════════════════════╡\n",
      "╘══════════════════════════════════════════╛\n"
     ]
    }
   ],
   "source": [
    "qcqa_model(GND, parameters=True, concentrations=True,\n",
    "           fluxes=False, superfluous=True, elemental=True)"
   ]
  },
  {
   "cell_type": "markdown",
   "id": "c8b0897b",
   "metadata": {},
   "source": [
    "## Validation by adding to core_rbc¶"
   ]
  },
  {
   "cell_type": "code",
   "execution_count": 31,
   "id": "40c3da42",
   "metadata": {},
   "outputs": [],
   "source": [
    "core_rbc_GND = core_rbc.merge(GND, inplace=False)\n",
    "core_rbc_GND.remove_reactions([\n",
    "    core_rbc_GND.reactions.get_by_id(\"GND\")])"
   ]
  },
  {
   "cell_type": "code",
   "execution_count": 32,
   "id": "14ba6f65",
   "metadata": {},
   "outputs": [
    {
     "data": {
      "text/html": [
       "\n",
       "            <table>\n",
       "                <tr>\n",
       "                    <td><strong>Name</strong></td><td>RBC_GND</td>\n",
       "                </tr><tr>\n",
       "                    <td><strong>Memory address</strong></td><td>0x07f291d21e590</td>\n",
       "                </tr><tr>\n",
       "                    <td><strong>Stoichiometric Matrix</strong></td>\n",
       "                    <td>56x61</td>\n",
       "                </tr><tr>\n",
       "                    <td><strong>Matrix Rank</strong></td>\n",
       "                    <td>51</td>\n",
       "                </tr><tr>\n",
       "                    <td><strong>Number of metabolites</strong></td>\n",
       "                    <td>56</td>\n",
       "                </tr><tr>\n",
       "                    <td><strong>Initial conditions defined</strong></td>\n",
       "                    <td>56/56</td>\n",
       "                </tr><tr>\n",
       "                    <td><strong>Number of reactions</strong></td>\n",
       "                    <td>61</td>\n",
       "                </tr><tr>\n",
       "                    <td><strong>Number of genes</strong></td>\n",
       "                    <td>0</td>\n",
       "                </tr><tr>\n",
       "                    <td><strong>Number of enzyme modules</strong></td>\n",
       "                    <td>1</td>\n",
       "                </tr><tr>\n",
       "                    <td><strong>Number of groups</strong></td>\n",
       "                    <td>13</td>\n",
       "                </tr><tr>\n",
       "                    <td><strong>Objective expression</strong></td>\n",
       "                    <td>0</td>\n",
       "                </tr><tr>\n",
       "                    <td><strong>Compartments</strong></td>\n",
       "                    <td>Cytosol</td>\n",
       "                </tr>\n",
       "            </table>\n",
       "        "
      ],
      "text/plain": [
       "<MassModel RBC_GND at 0x7f291d21e590>"
      ]
     },
     "execution_count": 32,
     "metadata": {},
     "output_type": "execute_result"
    }
   ],
   "source": [
    "core_rbc_GND"
   ]
  },
  {
   "cell_type": "code",
   "execution_count": 33,
   "id": "0e5abf61",
   "metadata": {},
   "outputs": [
    {
     "name": "stderr",
     "output_type": "stream",
     "text": [
      "/opt/conda/lib/python3.7/site-packages/roadrunner/roadrunner.py:3944 \u001b[1;31mUserWarning\u001b[0m: Simulation requested end point (100000000.0) not reached, because the maximum number of steps reached.  Possible solutions include:\n",
      "  * Setting an explicit number of points (i.e. r.simulate(0, 100000000.0, 1001)\n",
      "  * Setting r.integrator.variable_step_size to 'False'\n",
      "* Setting \n",
      "/opt/conda/lib/python3.7/site-packages/roadrunner/roadrunner.py:3957 \u001b[1;31mUserWarning\u001b[0m: Simulation returned more points than max output rows specified. Try incresing the number of maximum output rows or minimum step size.\n"
     ]
    },
    {
     "data": {
      "image/png": "[encoded data removed]",
      "text/plain": [
       "<Figure size 432x288 with 1 Axes>"
      ]
     },
     "metadata": {
      "needs_background": "light"
     },
     "output_type": "display_data"
    }
   ],
   "source": [
    "t0, tf = (0, 1e3)\n",
    "sim_core_rbc_GND = Simulation(core_rbc_GND)\n",
    "sim_core_rbc_GND.find_steady_state(\n",
    "    core_rbc_GND, strategy=\"simulate\",\n",
    "    update_values=True)\n",
    "conc_sol_ss, flux_sol_ss = sim_core_rbc_GND.simulate(\n",
    "    core_rbc_GND, time=(t0, tf, tf*10 + 1))\n",
    "\n",
    "# Quickly render and display time profiles\n",
    "conc_sol_ss.view_time_profile()"
   ]
  },
  {
   "cell_type": "code",
   "execution_count": 34,
   "id": "a9860a5d",
   "metadata": {},
   "outputs": [
    {
     "data": {
      "image/png": "[encoded data removed]",
      "text/plain": [
       "<Figure size 432x288 with 1 Axes>"
      ]
     },
     "metadata": {
      "needs_background": "light"
     },
     "output_type": "display_data"
    }
   ],
   "source": [
    "conc_sol_ss.view_time_profile(plot_function=\"semilogx\")"
   ]
  },
  {
   "cell_type": "markdown",
   "id": "42b03a38",
   "metadata": {},
   "source": [
    "## Export Model"
   ]
  },
  {
   "cell_type": "code",
   "execution_count": 35,
   "id": "5da50522",
   "metadata": {},
   "outputs": [],
   "source": [
    "for group in GND.groups:\n",
    "    group.id = \"_\".join((GND.id, group.id))\n",
    "# Export as JSON\n",
    "\n",
    "path_to_json_model = \"../models/GND_GND.json\"\n",
    "mass.io.json.save_json_model(GND, filename=path_to_json_model)"
   ]
  }
 ],
 "metadata": {
  "kernelspec": {
   "display_name": "Python 3 (ipykernel)",
   "language": "python",
   "name": "python3"
  },
  "language_info": {
   "codemirror_mode": {
    "name": "ipython",
    "version": 3
   },
   "file_extension": ".py",
   "mimetype": "text/x-python",
   "name": "python",
   "nbconvert_exporter": "python",
   "pygments_lexer": "ipython3",
   "version": "3.9.13"
  }
 },
 "nbformat": 4,
 "nbformat_minor": 5
}
