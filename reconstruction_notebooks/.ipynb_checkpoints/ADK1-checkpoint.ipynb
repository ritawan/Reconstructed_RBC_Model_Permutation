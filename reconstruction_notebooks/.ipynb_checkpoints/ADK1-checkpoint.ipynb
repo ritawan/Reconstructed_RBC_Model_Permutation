{
 "cells": [
  {
   "cell_type": "markdown",
   "metadata": {},
   "source": [
    "# Adenylate kinase (ADK1)\n",
    "[Net reaction: amp_c + atp_c ⇌ 2.0 adp_c](http://bigg.ucsd.edu/models/iAB_RBC_283/reactions/ADK1)\n",
    "\n",
    "\n",
    "## Information for reconstruction\n",
    "### Catalytic and regulatory mechanisms\n",
    "- Catalytic mechanism:\n",
    "$$\\begin{align}\n",
    "\\text{ADK1_R1}&: \\text{ADK1}_{c} + \\text{AMP}_{c} \\rightleftharpoons \\text{ADK1}_{c}^\\mathrm{-AMP} \\\\\n",
    "\\text{ADK1_R2}&: \\text{ADK1}_{c}^\\mathrm{-AMP} + \\text{ATP}_{c} \\rightleftharpoons \\text{ADK1}_{c}^\\mathrm{-AMP-ATP} \\\\\n",
    "\\text{ADK1_R3}&: \\text{ADK1}_{c}^\\mathrm{-AMP-ATP} \\rightleftharpoons \\text{ADK1}_{c}^\\mathrm{-ADP-ADP} \\\\\n",
    "\\text{ADK1_R4}&: \\text{ADK1}_{c}^\\mathrm{-ADP-ADP} \\rightleftharpoons \\text{ADK1}_{c}^\\mathrm{-ADP} + \\text{ADP}_{c} \\\\\n",
    "\\text{ADK1_R5}&: \\text{ADK1}_{c}^\\mathrm{-ADP} \\rightleftharpoons \\text{ADK1}_{c} + \\text{ADP}_{c}\\\\\n",
    "\\end{align}$$\n",
    "\n",
    "- Regulatory mechanism(s): None\n",
    "\n",
    "\n",
    "### Numerical values\n",
    "- Total enzyme concentration: $\\text{[ADK1]}_\\mathrm{total} = 0.00097\\ mM$\n",
    "- Dissociation constants:\n",
    "$$\\begin{align}\n",
    "K_\\mathrm{d, ADP} &= 0.12\\ mM \\\\ \n",
    "K_\\mathrm{d, ADP-ADP} &= 0.22\\ mM \\\\\n",
    "K_\\mathrm{d, AMP} &= 0.33\\ mM \\\\ \n",
    "K_\\mathrm{d, ATP} &= 0.95\\ mM \\\\\n",
    "\\end{align}$$\n",
    "\n",
    "\n",
    "- For the catalyzation step: $K_\\mathrm{ADK1} = 27.471$"
   ]
  },
  {
   "cell_type": "code",
   "execution_count": 1,
   "metadata": {},
   "outputs": [],
   "source": [
    "from os import path\n",
    "from os.path import join\n",
    "\n",
    "import matplotlib.pyplot as plt\n",
    "\n",
    "from scipy import optimize\n",
    "\n",
    "import sympy as sym\n",
    "\n",
    "import pandas as pd\n",
    "pd.set_option(\"display.max_columns\", 999)\n",
    "\n",
    "import numpy as np\n",
    "\n",
    "from cobra import DictList\n",
    "\n",
    "from mass.util.matrix import matrix_rank\n",
    "from mass import MassMetabolite, Simulation, UnitDefinition, strip_time\n",
    "from mass.enzyme_modules import EnzymeModule\n",
    "from mass.io import json, sbml\n",
    "from mass.util import Keq2k, k2Keq, strip_time, qcqa_model\n",
    "import mass.test\n",
    "from mass.test import create_test_model\n",
    "\n",
    "from sympy import Eq, Symbol, lambdify, simplify, solveset\n",
    "INF = float(\"inf\")"
   ]
  },
  {
   "cell_type": "code",
   "execution_count": 2,
   "metadata": {},
   "outputs": [],
   "source": [
    "ADK1 = EnzymeModule(\"ADK1\", name=\"Adenylate kinase\", subsystem=\"Glycolysis\")"
   ]
  },
  {
   "cell_type": "code",
   "execution_count": 3,
   "metadata": {},
   "outputs": [
    {
     "data": {
      "text/plain": [
       "[<MassMetabolite amp_c at 0x1876f106c48>,\n",
       " <MassMetabolite adp_c at 0x1876f106ac8>,\n",
       " <MassMetabolite atp_c at 0x1876f106a88>]"
      ]
     },
     "execution_count": 3,
     "metadata": {},
     "output_type": "execute_result"
    }
   ],
   "source": [
    "adp_c = MassMetabolite(\n",
    "    \"adp_c\",\n",
    "    name=\"ADP C10H12N5O10P2\",\n",
    "    formula=\"C10H12N5O10P2\",\n",
    "    charge=-3,\n",
    "    compartment=\"c\")\n",
    "\n",
    "atp_c = MassMetabolite(\n",
    "    \"atp_c\",\n",
    "    name=\"ATP C10H12N5O13P3\",\n",
    "    formula=\"C10H12N5O13P3\",\n",
    "    charge=-4,\n",
    "    compartment=\"c\")\n",
    "\n",
    "amp_c = MassMetabolite(\n",
    "    \"amp_c\",\n",
    "    name=\"AMP C10H12N5O7P\",\n",
    "    formula=\"C10H12N5O7P\",\n",
    "    charge=-2,\n",
    "    compartment=\"c\")\n",
    "\n",
    "ADK1.add_metabolites([amp_c, adp_c, atp_c])\n",
    "\n",
    "ADK1.enzyme_module_ligands"
   ]
  },
  {
   "cell_type": "code",
   "execution_count": 4,
   "metadata": {},
   "outputs": [
    {
     "name": "stdout",
     "output_type": "stream",
     "text": [
      "substrates: ['amp_c', 'atp_c']\n",
      "products: ['adp_c']\n"
     ]
    }
   ],
   "source": [
    "ADK1.enzyme_module_ligands_categorized =  {\n",
    "    \"substrates\": [amp_c, atp_c],\n",
    "    \"products\": [adp_c]}\n",
    "ADK1.enzyme_module_ligands_categorized\n",
    "\n",
    "for group in ADK1.enzyme_module_ligands_categorized:\n",
    "    print(\"{0}: {1}\".format(\n",
    "        group.id, str(sorted([m.id for m in group.members]))))"
   ]
  },
  {
   "cell_type": "code",
   "execution_count": 5,
   "metadata": {},
   "outputs": [
    {
     "name": "stdout",
     "output_type": "stream",
     "text": [
      "Bound to sites of adk1_c:\n",
      "{}\n",
      "\n",
      "Bound to sites of adk1_amp_c:\n",
      "{'amp_c': 1}\n",
      "\n",
      "Bound to sites of adk1_amp_atp_c:\n",
      "{'amp_c': 1, 'atp_c': 1}\n",
      "\n",
      "Bound to sites of adk1_adp_adp_c:\n",
      "{'adp_c': 2}\n",
      "\n",
      "Bound to sites of adk1_adp_c:\n",
      "{'adp_c': 1}\n",
      "\n",
      "Active: ['adk1_adp_adp_c', 'adk1_adp_c', 'adk1_amp_atp_c', 'adk1_amp_c', 'adk1_c']\n"
     ]
    }
   ],
   "source": [
    "adk1_c = ADK1.make_enzyme_module_form(\n",
    "    \"adk1_c\",\n",
    "    name=\"automatic\",\n",
    "    categories=\"Active\",\n",
    "    compartment=\"c\")\n",
    "\n",
    "adk1_amp_c = ADK1.make_enzyme_module_form(\n",
    "    \"adk1_amp_c\",\n",
    "    name=\"automatic\",\n",
    "    categories=\"Active\",\n",
    "    bound_metabolites={amp_c: 1},\n",
    "    compartment=\"c\")\n",
    "\n",
    "\n",
    "adk1_amp_atp_c = ADK1.make_enzyme_module_form(\n",
    "    \"adk1_amp_atp_c\",\n",
    "    name=\"automatic\",\n",
    "    categories=\"Active\",\n",
    "    bound_metabolites={amp_c: 1, atp_c: 1},\n",
    "    compartment=\"c\")\n",
    "\n",
    "adk1_adp_adp_c = ADK1.make_enzyme_module_form(\n",
    "    \"adk1_adp_adp_c\",\n",
    "    name=\"automatic\",\n",
    "    categories=\"Active\",\n",
    "    bound_metabolites={adp_c: 2},\n",
    "    compartment=\"c\")\n",
    "\n",
    "\n",
    "adk1_adp_c = ADK1.make_enzyme_module_form(\n",
    "    \"adk1_adp_c\",\n",
    "    name=\"automatic\",\n",
    "    categories=\"Active\",\n",
    "    bound_metabolites={adp_c: 1},\n",
    "    compartment=\"c\")\n",
    "\n",
    "\n",
    "# Print automatically generated names\n",
    "for enzyme_form in ADK1.enzyme_module_forms:\n",
    "    print(\"Bound to sites of {0}:\\n{1}\\n\".format(\n",
    "        enzyme_form.id, {\n",
    "            ligand.id: coeff\n",
    "            for ligand, coeff in enzyme_form.bound_metabolites.items()}))\n",
    "    \n",
    "    \n",
    "for group in ADK1.enzyme_module_forms_categorized:\n",
    "    print(\"{0}: {1}\".format(\n",
    "        group.id, str(sorted([m.id for m in group.members]))))"
   ]
  },
  {
   "cell_type": "code",
   "execution_count": 6,
   "metadata": {},
   "outputs": [
    {
     "name": "stdout",
     "output_type": "stream",
     "text": [
      "ADK1_1: adk1_c + amp_c <=> adk1_amp_c\n",
      "ADK1_2: adk1_amp_c + atp_c <=> adk1_amp_atp_c\n",
      "ADK1_3: adk1_amp_atp_c <=> adk1_adp_adp_c\n",
      "ADK1_4: adk1_adp_adp_c <=> adk1_adp_c + adp_c\n",
      "ADK1_5: adk1_adp_c <=> adk1_c + adp_c\n",
      "\n",
      "\n",
      "amp_c_binding: ['ADK1_1']\n",
      "atp_c_binding: ['ADK1_2']\n",
      "catalyzation: ['ADK1_3']\n",
      "adp_adp_c_releasing: ['ADK1_4']\n",
      "adp_c_releasing: ['ADK1_5']\n"
     ]
    }
   ],
   "source": [
    "ADK1_1 = ADK1.make_enzyme_module_reaction(\n",
    "    \"ADK1_1\",\n",
    "    name=\"Automatic\",\n",
    "    subsystem=\"Glycolysis\",\n",
    "    reversible=True,\n",
    "    categories=\"amp_c_binding\",\n",
    "    metabolites_to_add={\n",
    "        \"amp_c\": -1,\n",
    "        \"adk1_c\": -1,\n",
    "        \"adk1_amp_c\": 1})\n",
    "\n",
    "ADK1_2 = ADK1.make_enzyme_module_reaction(\n",
    "    \"ADK1_2\",\n",
    "    name=\"Automatic\",\n",
    "    subsystem=\"Glycolysis\",\n",
    "    reversible=True,\n",
    "    categories=\"atp_c_binding\",\n",
    "    metabolites_to_add={\n",
    "        \"atp_c\": -1,\n",
    "        \"adk1_amp_c\": -1,\n",
    "        \"adk1_amp_atp_c\": 1})\n",
    "\n",
    "ADK1_3 = ADK1.make_enzyme_module_reaction(\n",
    "    \"ADK1_3\",\n",
    "    name=\"Automatic\",\n",
    "    subsystem=\"Glycolysis\",\n",
    "    reversible=True,\n",
    "    categories=\"catalyzation\",\n",
    "    metabolites_to_add={\n",
    "        \"adk1_amp_atp_c\": -1,\n",
    "        \"adk1_adp_adp_c\": 1})\n",
    "\n",
    "ADK1_4 = ADK1.make_enzyme_module_reaction(\n",
    "    \"ADK1_4\",\n",
    "    name=\"Automatic\",\n",
    "    subsystem=\"Glycolysis\",\n",
    "    reversible=True,\n",
    "    categories=\"adp_adp_c_releasing\",\n",
    "    metabolites_to_add={\n",
    "        \"adk1_adp_adp_c\": -1,\n",
    "        \"adp_c\": 1,\n",
    "        \"adk1_adp_c\": 1})\n",
    "\n",
    "ADK1_5 = ADK1.make_enzyme_module_reaction(\n",
    "    \"ADK1_5\",\n",
    "    name=\"Automatic\",\n",
    "    subsystem=\"Glycolysis\",\n",
    "    reversible=True,\n",
    "    categories=\"adp_c_releasing\",\n",
    "    metabolites_to_add={\n",
    "        \"adk1_adp_c\": -1,\n",
    "        \"adp_c\": 1,\n",
    "        \"adk1_c\": 1})\n",
    "\n",
    "for reaction in ADK1.enzyme_module_reactions:\n",
    "    print(reaction)\n",
    "    \n",
    "print('\\n')\n",
    "for group in ADK1.enzyme_module_reactions_categorized:\n",
    "    print(\"{0}: {1}\".format(\n",
    "        group.id, str(sorted([m.id for m in group.members]))))"
   ]
  },
  {
   "cell_type": "code",
   "execution_count": 7,
   "metadata": {},
   "outputs": [
    {
     "data": {
      "text/html": [
       "<div>\n",
       "<style scoped>\n",
       "    .dataframe tbody tr th:only-of-type {\n",
       "        vertical-align: middle;\n",
       "    }\n",
       "\n",
       "    .dataframe tbody tr th {\n",
       "        vertical-align: top;\n",
       "    }\n",
       "\n",
       "    .dataframe thead th {\n",
       "        text-align: right;\n",
       "    }\n",
       "</style>\n",
       "<table border=\"1\" class=\"dataframe\">\n",
       "  <thead>\n",
       "    <tr style=\"text-align: right;\">\n",
       "      <th></th>\n",
       "      <th>ADK1_1</th>\n",
       "      <th>ADK1_2</th>\n",
       "      <th>ADK1_3</th>\n",
       "      <th>ADK1_4</th>\n",
       "      <th>ADK1_5</th>\n",
       "    </tr>\n",
       "  </thead>\n",
       "  <tbody>\n",
       "    <tr>\n",
       "      <th>adk1_c</th>\n",
       "      <td>-1</td>\n",
       "      <td>0</td>\n",
       "      <td>0</td>\n",
       "      <td>0</td>\n",
       "      <td>1</td>\n",
       "    </tr>\n",
       "    <tr>\n",
       "      <th>adk1_amp_c</th>\n",
       "      <td>1</td>\n",
       "      <td>-1</td>\n",
       "      <td>0</td>\n",
       "      <td>0</td>\n",
       "      <td>0</td>\n",
       "    </tr>\n",
       "    <tr>\n",
       "      <th>adk1_amp_atp_c</th>\n",
       "      <td>0</td>\n",
       "      <td>1</td>\n",
       "      <td>-1</td>\n",
       "      <td>0</td>\n",
       "      <td>0</td>\n",
       "    </tr>\n",
       "    <tr>\n",
       "      <th>adk1_adp_adp_c</th>\n",
       "      <td>0</td>\n",
       "      <td>0</td>\n",
       "      <td>1</td>\n",
       "      <td>-1</td>\n",
       "      <td>0</td>\n",
       "    </tr>\n",
       "    <tr>\n",
       "      <th>adk1_adp_c</th>\n",
       "      <td>0</td>\n",
       "      <td>0</td>\n",
       "      <td>0</td>\n",
       "      <td>1</td>\n",
       "      <td>-1</td>\n",
       "    </tr>\n",
       "  </tbody>\n",
       "</table>\n",
       "</div>"
      ],
      "text/plain": [
       "                ADK1_1  ADK1_2  ADK1_3  ADK1_4  ADK1_5\n",
       "adk1_c              -1       0       0       0       1\n",
       "adk1_amp_c           1      -1       0       0       0\n",
       "adk1_amp_atp_c       0       1      -1       0       0\n",
       "adk1_adp_adp_c       0       0       1      -1       0\n",
       "adk1_adp_c           0       0       0       1      -1"
      ]
     },
     "execution_count": 7,
     "metadata": {},
     "output_type": "execute_result"
    }
   ],
   "source": [
    "ADK1.update_S(array_type='DataFrame',dtype=int)\n",
    "ADK1.S[3:]"
   ]
  },
  {
   "cell_type": "code",
   "execution_count": 8,
   "metadata": {},
   "outputs": [
    {
     "name": "stdout",
     "output_type": "stream",
     "text": [
      "Rank Deficiency: 1\n"
     ]
    }
   ],
   "source": [
    "ode_dict = {\n",
    "    enzyme_form.id: Eq(strip_time(enzyme_form.ode), 0)\n",
    "    for enzyme_form in ADK1.enzyme_module_forms}\n",
    "# Matrix rank of enzyme stoichiometric matrix without substrates\n",
    "rank = matrix_rank(ADK1.S[3:])\n",
    "print(\"Rank Deficiency: {0}\".format(len(ode_dict) - rank))"
   ]
  },
  {
   "cell_type": "code",
   "execution_count": 9,
   "metadata": {},
   "outputs": [],
   "source": [
    "enzyme_solutions = {}\n",
    "\n",
    "enzyme_module_forms = ADK1.enzyme_module_forms.copy()\n",
    "enzyme_module_forms.reverse() #reverses the order, assumes you defined forms in substrate->product direction\n",
    "\n",
    "\n",
    "for enzyme_form in enzyme_module_forms:\n",
    "    # Skip dependent variable\n",
    "    if enzyme_form.id == \"adk1_c\":\n",
    "        continue\n",
    "    # Get the ODE for the enzyme form from the ODE dict\n",
    "    equation = ode_dict[enzyme_form.id]\n",
    "    # Solve the equation for the enzyme form, substituting\n",
    "    # previously found enzyme form solutions into the equation\n",
    "    solution = solveset(equation.subs(enzyme_solutions),\n",
    "                        enzyme_form.id)\n",
    "    # Store the solution\n",
    "    enzyme_solutions[enzyme_form.id] = list(solution)[0]\n",
    "    # Substitute the new solution into existing solutions\n",
    "    enzyme_solutions.update({\n",
    "        enzyme_form: sol.subs(enzyme_solutions)\n",
    "        for enzyme_form, sol in enzyme_solutions.items()})\n",
    "\n",
    "args = set()\n",
    "for solution in enzyme_solutions.values():\n",
    "    args.update(solution.atoms(Symbol))"
   ]
  },
  {
   "cell_type": "markdown",
   "metadata": {},
   "source": [
    "# Define rate constant"
   ]
  },
  {
   "cell_type": "code",
   "execution_count": 10,
   "metadata": {},
   "outputs": [
    {
     "name": "stdout",
     "output_type": "stream",
     "text": [
      "kf_ADK1_3*(Keq_ADK1_3*adk1_amp_atp_c(t) - adk1_adp_adp_c(t))/Keq_ADK1_3\n"
     ]
    }
   ],
   "source": [
    "# Get the catalyzation reactions\n",
    "catalyzation_group = ADK1.enzyme_module_reactions_categorized.get_by_id(\n",
    "    \"catalyzation\")\n",
    "\n",
    "ADK1.make_enzyme_rate_equation(catalyzation_group.members,\n",
    "                               use_rates=True,\n",
    "                               update_enzyme=True)\n",
    "\n",
    "print(ADK1.enzyme_rate_equation)"
   ]
  },
  {
   "cell_type": "code",
   "execution_count": 11,
   "metadata": {},
   "outputs": [
    {
     "name": "stdout",
     "output_type": "stream",
     "text": [
      "v_ADK1 - kf_ADK1_3*(Keq_ADK1_3*adk1_amp_atp_c - adk1_adp_adp_c)/Keq_ADK1_3\n"
     ]
    }
   ],
   "source": [
    "enzyme_rate_equation = strip_time(ADK1.enzyme_rate_error(use_values=False))\n",
    "print(enzyme_rate_equation)"
   ]
  },
  {
   "cell_type": "code",
   "execution_count": 12,
   "metadata": {},
   "outputs": [
    {
     "name": "stdout",
     "output_type": "stream",
     "text": [
      "{kf_ADK1_5, atp_c, kf_ADK1_2, Keq_ADK1_2, Keq_ADK1_4, Keq_ADK1_1, Keq_ADK1_5, kf_ADK1_1, kf_ADK1_3, v_ADK1, Keq_ADK1_3, amp_c, adp_c, kf_ADK1_4}\n"
     ]
    }
   ],
   "source": [
    "# Solve for last unknown concentration symbolically\n",
    "solution = solveset(enzyme_rate_equation.subs(enzyme_solutions),\n",
    "                    \"adk1_c\")\n",
    "\n",
    "\n",
    "# Update solution dictionary with the new solution\n",
    "enzyme_solutions[\"adk1_c\"] = list(solution)[0]\n",
    "\n",
    "# Update solutions with free variable solutions\n",
    "enzyme_solutions = {\n",
    "    enzyme_form: simplify(solution.subs(enzyme_solutions))\n",
    "    for enzyme_form, solution in enzyme_solutions.items()}\n",
    "\n",
    "args = set()\n",
    "for solution in enzyme_solutions.values():\n",
    "    args.update(solution.atoms(Symbol))\n",
    "print(args)"
   ]
  },
  {
   "cell_type": "code",
   "execution_count": 13,
   "metadata": {},
   "outputs": [],
   "source": [
    "numerical_values = {\n",
    "    \"Keq_ADK1_1\": 1/0.33,\n",
    "    \"Keq_ADK1_2\": 1/0.95,\n",
    "    \"Keq_ADK1_3\": 27.471,\n",
    "    \"Keq_ADK1_4\": 0.22,\n",
    "    \"Keq_ADK1_5\": 0.12\n",
    "}\n",
    "# Update the model with the parameters\n",
    "ADK1.update_parameters(numerical_values)"
   ]
  },
  {
   "cell_type": "code",
   "execution_count": 14,
   "metadata": {},
   "outputs": [],
   "source": [
    "enzyme_solutions = {\n",
    "    enzyme_form: simplify(sol.subs(numerical_values))\n",
    "    for enzyme_form, sol in enzyme_solutions.items()}"
   ]
  },
  {
   "cell_type": "code",
   "execution_count": 15,
   "metadata": {},
   "outputs": [],
   "source": [
    "# import rbc model\n",
    "from os.path import join\n",
    "\n",
    "core_rbc = json.load_json_model(join(\"\", \"../models/RBC_RBC.json\"))"
   ]
  },
  {
   "cell_type": "code",
   "execution_count": 16,
   "metadata": {},
   "outputs": [],
   "source": [
    "# Get steady state flux for EnzymeModule\n",
    "ADK1.enzyme_rate = -core_rbc.reactions.get_by_id(\"ADK1\").steady_state_flux\n",
    "numerical_values[ADK1.enzyme_flux_symbol_str] = ADK1.enzyme_rate\n",
    "\n",
    "# Get the ligand concentrations\n",
    "for met in ADK1.enzyme_module_ligands:\n",
    "    concentration = core_rbc.metabolites.get_by_id(met.id).initial_condition\n",
    "    # Set the ligand initial condition and add to numercal values dictionary\n",
    "    met.initial_condition = concentration\n",
    "    numerical_values[met.id] = concentration"
   ]
  },
  {
   "cell_type": "code",
   "execution_count": 17,
   "metadata": {},
   "outputs": [
    {
     "data": {
      "text/html": [
       "\n",
       "            <table>\n",
       "                <tr>\n",
       "                    <td><strong>Reaction identifier</strong></td>\n",
       "                    <td>ADK1</td>\n",
       "                </tr><tr>\n",
       "                    <td><strong>Name</strong></td>\n",
       "                    <td>Adenylate kinase</td>\n",
       "                </tr><tr>\n",
       "                    <td><strong>Memory address</strong></td>\n",
       "                    <td>0x01876f78edc8</td>\n",
       "                </tr><tr>\n",
       "                    <td><strong>Subsystem</strong></td>\n",
       "                    <td>Misc.</td>\n",
       "                </tr><tr>\n",
       "                    <td><strong>Kinetic Reversibility</strong></td>\n",
       "                    <td>True</td>\n",
       "                </tr><tr>\n",
       "                    <td><strong>Stoichiometry</strong></td>\n",
       "                    <td>\n",
       "                        <p style='text-align:right'>2 adp_c <=> amp_c + atp_c</p>\n",
       "                        <p style='text-align:right'>2 ADP <=> AMP + ATP</p>\n",
       "                    </td>\n",
       "                </tr><tr>\n",
       "                    <td><strong>GPR</strong></td><td></td>\n",
       "                </tr><tr>\n",
       "                    <td><strong>Bounds</strong></td><td>(-1000.0, 1000.0)</td>\n",
       "                </tr>\n",
       "            </table>\n",
       "        "
      ],
      "text/plain": [
       "<MassReaction ADK1 at 0x1876f78edc8>"
      ]
     },
     "execution_count": 17,
     "metadata": {},
     "output_type": "execute_result"
    }
   ],
   "source": [
    "core_rbc.reactions.get_by_id(\"ADK1\")"
   ]
  },
  {
   "cell_type": "code",
   "execution_count": 18,
   "metadata": {},
   "outputs": [
    {
     "name": "stdout",
     "output_type": "stream",
     "text": [
      "{kf_ADK1_5, kf_ADK1_2, kf_ADK1_4, kf_ADK1_1, kf_ADK1_3}\n"
     ]
    }
   ],
   "source": [
    "enzyme_solutions = {\n",
    "    \n",
    "    enzyme_form: simplify(sol.subs(numerical_values))\n",
    "    for enzyme_form, sol in enzyme_solutions.items()}\n",
    "\n",
    "args = set()\n",
    "for solution in enzyme_solutions.values():\n",
    "    args.update(solution.atoms(Symbol))\n",
    "print(args)"
   ]
  },
  {
   "cell_type": "code",
   "execution_count": 19,
   "metadata": {},
   "outputs": [
    {
     "data": {
      "text/plain": [
       "{'Keq_ADK1_1': 3.0303030303030303,\n",
       " 'Keq_ADK1_2': 1.0526315789473684,\n",
       " 'Keq_ADK1_3': 27.471,\n",
       " 'Keq_ADK1_4': 0.22,\n",
       " 'Keq_ADK1_5': 0.12,\n",
       " 'v_ADK1': 0.009175570650499232,\n",
       " 'amp_c': 0.05653374262248433,\n",
       " 'adp_c': 0.18898414494340585,\n",
       " 'atp_c': 1.0423847825964077}"
      ]
     },
     "execution_count": 19,
     "metadata": {},
     "output_type": "execute_result"
    }
   ],
   "source": [
    "numerical_values"
   ]
  },
  {
   "cell_type": "markdown",
   "metadata": {},
   "source": [
    "# Aproximating Rate Constant"
   ]
  },
  {
   "cell_type": "code",
   "execution_count": 20,
   "metadata": {},
   "outputs": [],
   "source": [
    "from scipy.optimize import minimize"
   ]
  },
  {
   "cell_type": "code",
   "execution_count": 21,
   "metadata": {},
   "outputs": [
    {
     "name": "stdout",
     "output_type": "stream",
     "text": [
      "Abs(-ADK1_Total + adk1_adp_adp_c + adk1_adp_c + adk1_amp_atp_c + adk1_amp_c + adk1_c)\n"
     ]
    }
   ],
   "source": [
    "# enzyme_total_error = simplify(\n",
    "#     abs(strip_time(ADK1.enzyme_concentration_total_error())).subs(\n",
    "#         enzyme_solutions).subs(\n",
    "#         numerical_values))\n",
    "\n",
    "enzyme_total_error = abs(\n",
    "     Symbol(ADK1.enzyme_total_symbol_str)\n",
    "     - strip_time(ADK1.enzyme_concentration_total_equation))\n",
    "print(enzyme_total_error)"
   ]
  },
  {
   "cell_type": "code",
   "execution_count": 22,
   "metadata": {},
   "outputs": [
    {
     "name": "stdout",
     "output_type": "stream",
     "text": [
      "Abs(-0.00097 + 0.0259240190077249/kf_ADK1_5 + 0.0194971839552629/kf_ADK1_4 + 0.283545039095163/kf_ADK1_3 + 0.288809966783857/kf_ADK1_2 + 0.884471344809598/kf_ADK1_1)\n"
     ]
    }
   ],
   "source": [
    "ADK1.enzyme_concentration_total = 0.00097\n",
    "enzyme_total_error = enzyme_total_error.subs({\n",
    "     ADK1.enzyme_total_symbol_str: ADK1.enzyme_concentration_total})\n",
    "\n",
    "enzyme_total_error = simplify(enzyme_total_error.subs(enzyme_solutions))\n",
    "\n",
    "print(enzyme_total_error)"
   ]
  },
  {
   "cell_type": "code",
   "execution_count": 23,
   "metadata": {},
   "outputs": [],
   "source": [
    "# Sort the arguments to ensure input format remains consistent\n",
    "args = sorted(list(map(str, args)))\n",
    "# Use lambdify to make objective function as a lambda function\n",
    "obj_fun = lambda x: lambdify(args, enzyme_total_error)(*x)"
   ]
  },
  {
   "cell_type": "code",
   "execution_count": 24,
   "metadata": {},
   "outputs": [
    {
     "name": "stdout",
     "output_type": "stream",
     "text": [
      "`gtol` termination condition is satisfied.\n",
      "Number of iterations: 23, function evaluations: 78, CG iterations: 16, optimality: 6.26e-13, constraint violation: 8.87e-15, execution time: 0.87 s.\n",
      "{'kf_ADK1_1': 949.0758295021876, 'kf_ADK1_2': 16059.70138932584, 'kf_ADK1_3': 16107.993275424931, 'kf_ADK1_4': 18308.64029486818, 'kf_ADK1_5': 18259.569921201597}\n"
     ]
    }
   ],
   "source": [
    "# Minimize the objective function, initial guess based on publication values\n",
    "initial_guess = [1e4,1e4,1e4,1e4,1e4]\n",
    "variable_bounds = ((0, 1e9), (0, 1e9), (0, 1e9), (0, 1e9), (0, 1e9))\n",
    "solution = minimize(obj_fun, x0=initial_guess,\n",
    "                    method=\"trust-constr\",\n",
    "                    bounds=variable_bounds, \n",
    "                    constraints={\"type\": \"eq\", \"fun\": obj_fun}, \n",
    "                    options={\"gtol\": 1e-12, \"xtol\": 1e-12, \"maxiter\": 1e4, \"disp\": True})\n",
    "# Map solution array to variables\n",
    "rate_constants = dict(zip(args, solution.x))\n",
    "print(rate_constants)\n",
    "\n",
    "ADK1.update_parameters(rate_constants)"
   ]
  },
  {
   "cell_type": "markdown",
   "metadata": {},
   "source": [
    "# Calculate numerical value"
   ]
  },
  {
   "cell_type": "code",
   "execution_count": 25,
   "metadata": {},
   "outputs": [
    {
     "name": "stdout",
     "output_type": "stream",
     "text": [
      "adk1_adp_c: 3.791060e-04\n",
      "adk1_adp_adp_c: 3.261603e-04\n",
      "adk1_amp_atp_c: 1.244252e-05\n",
      "adk1_amp_c: 1.188787e-05\n",
      "adk1_c: 2.404033e-04\n"
     ]
    }
   ],
   "source": [
    "for enzyme_form, solution in enzyme_solutions.items():\n",
    "    # Get the enzyme form object, determine the steady state concentration\n",
    "    enzyme_form = ADK1.enzyme_module_forms.get_by_id(enzyme_form)\n",
    "    enzyme_form.initial_condition = float(solution.subs(rate_constants))\n",
    "    print(\"{0}: {1:e}\".format(enzyme_form.id,\n",
    "                              enzyme_form.initial_condition))"
   ]
  },
  {
   "cell_type": "markdown",
   "metadata": {},
   "source": [
    "# Error Value"
   ]
  },
  {
   "cell_type": "code",
   "execution_count": 26,
   "metadata": {},
   "outputs": [
    {
     "name": "stdout",
     "output_type": "stream",
     "text": [
      "Total Enzyme Concentration Error: -8.87313768467568e-15\n"
     ]
    }
   ],
   "source": [
    "print(\"Total Enzyme Concentration Error: {0}\".format(\n",
    "    ADK1.enzyme_concentration_total_error(use_values=True)))"
   ]
  },
  {
   "cell_type": "code",
   "execution_count": 27,
   "metadata": {},
   "outputs": [
    {
     "name": "stdout",
     "output_type": "stream",
     "text": [
      "Enzyme Rate Error: -1.734723475976807e-18\n"
     ]
    }
   ],
   "source": [
    "print(\"Enzyme Rate Error: {0}\".format(\n",
    "    ADK1.enzyme_rate_error(use_values=True)))"
   ]
  },
  {
   "cell_type": "markdown",
   "metadata": {},
   "source": [
    "# Validation by adding to core_rbc"
   ]
  },
  {
   "cell_type": "code",
   "execution_count": 28,
   "metadata": {},
   "outputs": [],
   "source": [
    "core_rbc_ADK1 = core_rbc.merge(ADK1, inplace=False)\n",
    "core_rbc_ADK1.remove_reactions([\n",
    "    core_rbc_ADK1.reactions.get_by_id(\"ADK1\")])"
   ]
  },
  {
   "cell_type": "code",
   "execution_count": 29,
   "metadata": {},
   "outputs": [
    {
     "data": {
      "text/html": [
       "\n",
       "            <table>\n",
       "                <tr>\n",
       "                    <td><strong>Name</strong></td><td>RBC_ADK1</td>\n",
       "                </tr><tr>\n",
       "                    <td><strong>Memory address</strong></td><td>0x01876f733988</td>\n",
       "                </tr><tr>\n",
       "                    <td><strong>Stoichiometric Matrix</strong></td>\n",
       "                    <td>53x57</td>\n",
       "                </tr><tr>\n",
       "                    <td><strong>Matrix Rank</strong></td>\n",
       "                    <td>48</td>\n",
       "                </tr><tr>\n",
       "                    <td><strong>Number of metabolites</strong></td>\n",
       "                    <td>53</td>\n",
       "                </tr><tr>\n",
       "                    <td><strong>Initial conditions defined</strong></td>\n",
       "                    <td>53/53</td>\n",
       "                </tr><tr>\n",
       "                    <td><strong>Number of reactions</strong></td>\n",
       "                    <td>57</td>\n",
       "                </tr><tr>\n",
       "                    <td><strong>Number of genes</strong></td>\n",
       "                    <td>0</td>\n",
       "                </tr><tr>\n",
       "                    <td><strong>Number of enzyme modules</strong></td>\n",
       "                    <td>1</td>\n",
       "                </tr><tr>\n",
       "                    <td><strong>Number of groups</strong></td>\n",
       "                    <td>8</td>\n",
       "                </tr><tr>\n",
       "                    <td><strong>Objective expression</strong></td>\n",
       "                    <td>0</td>\n",
       "                </tr><tr>\n",
       "                    <td><strong>Compartments</strong></td>\n",
       "                    <td>Cytosol</td>\n",
       "                </tr>\n",
       "            </table>\n",
       "        "
      ],
      "text/plain": [
       "<MassModel RBC_ADK1 at 0x1876f733988>"
      ]
     },
     "execution_count": 29,
     "metadata": {},
     "output_type": "execute_result"
    }
   ],
   "source": [
    "core_rbc_ADK1"
   ]
  },
  {
   "cell_type": "code",
   "execution_count": 30,
   "metadata": {},
   "outputs": [
    {
     "name": "stderr",
     "output_type": "stream",
     "text": [
      "C:\\Users\\Administrator\\miniconda3\\lib\\site-packages\\roadrunner\\roadrunner.py:3946 UserWarning: Simulation requested end point (100000000.0) not reached, because the maximum number of steps reached.  Possible solutions include:\n",
      "  * Setting an explicit number of points (i.e. r.simulate(0, 100000000.0, 1001)\n",
      "  * Setting r.integrator.variable_step_size to 'False'\n",
      "* Setting \n",
      "C:\\Users\\Administrator\\miniconda3\\lib\\site-packages\\roadrunner\\roadrunner.py:3959 UserWarning: Simulation returned more points than max output rows specified. Try incresing the number of maximum output rows or minimum step size.\n"
     ]
    },
    {
     "data": {
      "image/png": "[encoded data removed]",
      "text/plain": [
       "<Figure size 432x288 with 1 Axes>"
      ]
     },
     "metadata": {
      "needs_background": "light"
     },
     "output_type": "display_data"
    }
   ],
   "source": [
    "t0, tf = (0, 1e3)\n",
    "sim_core_rbc_ADK1 = Simulation(core_rbc_ADK1)\n",
    "sim_core_rbc_ADK1.find_steady_state(\n",
    "    core_rbc_ADK1, strategy=\"simulate\",\n",
    "    update_values=True)\n",
    "conc_sol_ss, flux_sol_ss = sim_core_rbc_ADK1.simulate(\n",
    "    core_rbc_ADK1, time=(t0, tf, tf*10 + 1))\n",
    "\n",
    "# Quickly render and display time profiles\n",
    "conc_sol_ss.view_time_profile()"
   ]
  },
  {
   "cell_type": "code",
   "execution_count": 31,
   "metadata": {},
   "outputs": [
    {
     "data": {
      "image/png": "[encoded data removed]",
      "text/plain": [
       "<Figure size 432x288 with 1 Axes>"
      ]
     },
     "metadata": {
      "needs_background": "light"
     },
     "output_type": "display_data"
    }
   ],
   "source": [
    "conc_sol_ss.view_time_profile(plot_function=\"semilogx\")"
   ]
  },
  {
   "cell_type": "markdown",
   "metadata": {},
   "source": [
    "# Export module"
   ]
  },
  {
   "cell_type": "code",
   "execution_count": 32,
   "metadata": {},
   "outputs": [],
   "source": [
    "for group in ADK1.groups:\n",
    "    group.id = \"_\".join((ADK1.id, group.id))\n",
    "    \n",
    "# Export as JSON\n",
    "\n",
    "path_to_json_model = \"../models/ADK1_ADK1.json\"\n",
    "mass.io.json.save_json_model(ADK1, filename=path_to_json_model)"
   ]
  }
 ],
 "metadata": {
  "kernelspec": {
   "display_name": "Python 3",
   "language": "python",
   "name": "python3"
  },
  "language_info": {
   "codemirror_mode": {
    "name": "ipython",
    "version": 3
   },
   "file_extension": ".py",
   "mimetype": "text/x-python",
   "name": "python",
   "nbconvert_exporter": "python",
   "pygments_lexer": "ipython3",
   "version": "3.7.7"
  }
 },
 "nbformat": 4,
 "nbformat_minor": 5
}
