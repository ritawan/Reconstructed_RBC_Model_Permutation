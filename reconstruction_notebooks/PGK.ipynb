{
 "cells": [
  {
   "cell_type": "markdown",
   "metadata": {},
   "source": [
    "# Phosphoglycerate kinase (PGK)\n",
    "[Net reaction: 13dpg_c + adp_c ⇌ 3pg_c + atp_c](http://bigg.ucsd.edu/models/iAB_RBC_283/reactions/PGK)\n",
    "\n",
    "\n",
    "## Information for reconstruction\n",
    "### Catalytic and regulatory mechanisms\n",
    "- Catalytic mechanism:\n",
    "$$\\begin{align}\n",
    "\\text{PGK_R1}&: \\text{PGK}_{c} + \\text{13DPG}_{c} \\rightleftharpoons \\text{PGK}_{c}^\\mathrm{-13DPG} \\\\\n",
    "\\text{PGK_R2}&: \\text{PGK}_{c} + \\text{ADP}_{c} \\rightleftharpoons \\text{PGK}_{c}^\\mathrm{-ADP} \\\\\n",
    "\\text{PGK_R3}&: \\text{PGK}_{c}^\\mathrm{-ADP} + \\text{13DPG}_{c} \\rightleftharpoons \\text{PGK}_{c}^\\mathrm{-13DPG-ADP} \\\\\n",
    "\\text{PGK_R4}&: \\text{PGK}_{c}^\\mathrm{-13DPG} + \\text{ADP}_{c} \\rightleftharpoons \\text{PGK}_{c}^\\mathrm{-13DPG-ADP} \\\\\n",
    "\\text{PGK_R5}&: \\text{PGK}_{c}^\\mathrm{-13DPG-ADP} \\rightleftharpoons \\text{PGK}_{c} + \\text{3PG}_{c} + \\text{ATP}_{c} \\\\\n",
    "\\end{align}$$\n",
    "\n",
    "\n",
    "- Regulatory mechanism(s):\n",
    "$$\\begin{align}\n",
    "\\text{PGK_R6}&: \\text{Competitive inhibition by 23DPG} \\\\\n",
    "\\text{PGK_R7}&: \\text{Competitive inhibition by 3PG} \\\\\n",
    "\\text{PGK_R8}&: \\text{Uncompetitive inhibition by ATP w/ respect to 13DPG} \\\\\n",
    "\\text{PGK_R9}&: \\text{Uncompetitive inhibition by ATP w/ respect to ADP} \\\\\n",
    "\\end{align}$$\n",
    "\n",
    "\n",
    "### Numerical values\n",
    "- Total enzyme concentration: $\\text{[PGK]}_\\mathrm{total} = 0.00274\\ mM$\n",
    "- Dissociation constants:\n",
    "$$\\begin{align}\n",
    "K_\\mathrm{d, 13DPG} &= 0.000056\\ mM \\\\\n",
    "K_\\mathrm{d, ADP} &= 0.029\\ mM \\\\ \n",
    "K_\\mathrm{i, 23DPG} &= 2.4\\ mM \\\\ \n",
    "K_\\mathrm{i, 3PG} &= 0.205\\ mM \\\\ \n",
    "K_\\mathrm{i, 13DPG-ATP} &= 1.87\\ mM \\\\ \n",
    "K_\\mathrm{i, ADP-ATP} &= 0.45\\ mM \\\\ \n",
    "\\end{align}$$\n",
    "\n",
    "\n",
    "- For the catalyzation step: $K_\\mathrm{PGK} =  0.00374194$"
   ]
  },
  {
   "cell_type": "code",
   "execution_count": 1,
   "metadata": {},
   "outputs": [],
   "source": [
    "from os import path\n",
    "from os.path import join\n",
    "\n",
    "from operator import attrgetter\n",
    "\n",
    "import matplotlib.pyplot as plt\n",
    "\n",
    "from scipy import optimize\n",
    "\n",
    "import sympy as sym\n",
    "\n",
    "import pandas as pd\n",
    "pd.set_option(\"display.max_columns\", 999)\n",
    "\n",
    "import numpy as np\n",
    "\n",
    "from cobra import DictList\n",
    "\n",
    "from mass.util.matrix import matrix_rank\n",
    "from mass import MassMetabolite, Simulation, UnitDefinition, strip_time\n",
    "from mass.enzyme_modules import EnzymeModule\n",
    "from mass.io import json, sbml\n",
    "from mass.util import Keq2k, k2Keq, strip_time, qcqa_model\n",
    "import mass.test\n",
    "from mass.test import create_test_model\n",
    "\n",
    "from sympy import Eq, Symbol, lambdify, simplify, solveset\n",
    "INF = float(\"inf\")"
   ]
  },
  {
   "cell_type": "code",
   "execution_count": 2,
   "metadata": {},
   "outputs": [],
   "source": [
    "PGK = EnzymeModule(\"PGK\", name=\"Phosphoglycerate kinase\", subsystem=\"Glycolysis\")"
   ]
  },
  {
   "cell_type": "code",
   "execution_count": 3,
   "metadata": {},
   "outputs": [
    {
     "data": {
      "text/plain": [
       "[<MassMetabolite _13dpg_c at 0x7efd86643c10>,\n",
       " <MassMetabolite _3pg_c at 0x7efd86643bd0>,\n",
       " <MassMetabolite adp_c at 0x7efd86643c50>,\n",
       " <MassMetabolite atp_c at 0x7efd86643c90>,\n",
       " <MassMetabolite _23dpg_c at 0x7efd86643d10>]"
      ]
     },
     "execution_count": 3,
     "metadata": {},
     "output_type": "execute_result"
    }
   ],
   "source": [
    "_13dpg_c = MassMetabolite(\n",
    "    \"_13dpg_c\",\n",
    "    name=\"3-Phospho-D-glyceroyl phosphate\",\n",
    "    formula=\"C3H4O10P2\",\n",
    "    charge=-4,\n",
    "    compartment=\"c\")\n",
    "    \n",
    "_3pg_c = MassMetabolite(\n",
    "    \"_3pg_c\",\n",
    "    name=\"3-Phospho-D-glycerate\",\n",
    "    formula=\"C3H4O7P\",\n",
    "    charge=-3,\n",
    "    compartment=\"c\")\n",
    "\n",
    "adp_c = MassMetabolite(\n",
    "    \"adp_c\",\n",
    "    name=\"ADP C10H12N5O10P2\",\n",
    "    formula=\"C10H12N5O10P2\",\n",
    "    charge=-3,\n",
    "    compartment=\"c\")\n",
    "\n",
    "atp_c = MassMetabolite(\n",
    "    \"atp_c\",\n",
    "    name=\"ATP C10H12N5O13P3\",\n",
    "    formula=\"C10H12N5O13P3\",\n",
    "    charge=-4,\n",
    "    compartment=\"c\")\n",
    "\n",
    "\n",
    "_23dpg_c = MassMetabolite(\n",
    "    \"_23dpg_c\",\n",
    "    name=\"2 3 Disphospho D glycerate C3H3O10P2\",\n",
    "    formula=\"C3H3O10P2\",\n",
    "    charge=-5,\n",
    "    compartment=\"c\")\n",
    "\n",
    "PGK.add_metabolites([_13dpg_c, _3pg_c, adp_c, atp_c, _23dpg_c])\n",
    "\n",
    "PGK.enzyme_module_ligands"
   ]
  },
  {
   "cell_type": "code",
   "execution_count": 4,
   "metadata": {},
   "outputs": [
    {
     "name": "stdout",
     "output_type": "stream",
     "text": [
      "substrates: ['_13dpg_c']\n",
      "inhibitors: ['_23dpg_c', '_3pg_c', 'atp_c']\n",
      "cofactors: ['adp_c']\n",
      "products: ['_3pg_c', 'atp_c']\n"
     ]
    }
   ],
   "source": [
    "PGK.enzyme_module_ligands_categorized =  {\n",
    "    \"substrates\": [_13dpg_c],\n",
    "    \"inhibitors\": [_23dpg_c, _3pg_c, atp_c],\n",
    "    \"cofactors\": [adp_c],\n",
    "    \"products\": [_3pg_c, atp_c]}\n",
    "PGK.enzyme_module_ligands_categorized\n",
    "\n",
    "for group in PGK.enzyme_module_ligands_categorized:\n",
    "    print(\"{0}: {1}\".format(\n",
    "        group.id, str(sorted([m.id for m in group.members]))))"
   ]
  },
  {
   "cell_type": "markdown",
   "metadata": {},
   "source": [
    "## Define the enzyme module form"
   ]
  },
  {
   "cell_type": "code",
   "execution_count": 5,
   "metadata": {},
   "outputs": [
    {
     "name": "stdout",
     "output_type": "stream",
     "text": [
      "Bound to sites of pgk_c:\n",
      "{}\n",
      "\n",
      "Bound to sites of pgk__13dpg_c:\n",
      "{'_13dpg_c': 1}\n",
      "\n",
      "Bound to sites of pgk_adp_c:\n",
      "{'adp_c': 1}\n",
      "\n",
      "Bound to sites of pgk__13dpg_adp_c:\n",
      "{'_13dpg_c': 1, 'adp_c': 1}\n",
      "\n",
      "Bound to sites of pgk__23dpg_c:\n",
      "{'_23dpg_c': 1}\n",
      "\n",
      "Bound to sites of pgk__3pg_c:\n",
      "{'_3pg_c': 1}\n",
      "\n",
      "Bound to sites of pgk__13dpg_atp_c:\n",
      "{'_13dpg_c': 1, 'atp_c': 1}\n",
      "\n",
      "Bound to sites of pgk_adp_atp_c:\n",
      "{'adp_c': 1, 'atp_c': 1}\n",
      "\n",
      "PGK_Active: ['pgk_c']\n",
      "Active: ['pgk__13dpg_adp_c', 'pgk__13dpg_c', 'pgk_adp_c']\n",
      "Inhibited: ['pgk__13dpg_atp_c', 'pgk__23dpg_c', 'pgk__3pg_c', 'pgk_adp_atp_c']\n"
     ]
    }
   ],
   "source": [
    "pgk_c = PGK.make_enzyme_module_form(\n",
    "    \"pgk_c\",\n",
    "    name=\"automatic\",\n",
    "    categories=\"PGK_Active\",\n",
    "    compartment=\"c\")\n",
    "\n",
    "pgk__13dpg_c = PGK.make_enzyme_module_form(\n",
    "    \"pgk__13dpg_c\",\n",
    "    name=\"automatic\",\n",
    "    categories=\"Active\",\n",
    "    bound_metabolites={_13dpg_c: 1},\n",
    "    compartment=\"c\")\n",
    "\n",
    "pgk_adp_c = PGK.make_enzyme_module_form(\n",
    "    \"pgk_adp_c\",\n",
    "    name=\"automatic\",\n",
    "    categories=\"Active\",\n",
    "    bound_metabolites={adp_c: 1},\n",
    "    compartment=\"c\")\n",
    "\n",
    "pgk__13dpg_adp_c = PGK.make_enzyme_module_form(\n",
    "    \"pgk__13dpg_adp_c\",\n",
    "    name=\"automatic\",\n",
    "    categories=\"Active\",\n",
    "    bound_metabolites={_13dpg_c: 1, adp_c: 1},\n",
    "    compartment=\"c\")\n",
    "\n",
    "pgk__23dpg_c = PGK.make_enzyme_module_form(\n",
    "    \"pgk__23dpg_c\",\n",
    "    name=\"automatic\",\n",
    "    categories=\"Inhibited\",\n",
    "    bound_metabolites={_23dpg_c: 1},\n",
    "    compartment=\"c\")\n",
    "\n",
    "pgk__3pg_c = PGK.make_enzyme_module_form(\n",
    "    \"pgk__3pg_c\",\n",
    "    name=\"automatic\",\n",
    "    categories=\"Inhibited\",\n",
    "    bound_metabolites={_3pg_c: 1},\n",
    "    compartment=\"c\")\n",
    "\n",
    "\n",
    "pgk__13dpg_atp_c = PGK.make_enzyme_module_form(\n",
    "    \"pgk__13dpg_atp_c\",\n",
    "    name=\"automatic\",\n",
    "    categories=\"Inhibited\",\n",
    "    bound_metabolites={_13dpg_c: 1, atp_c: 1},\n",
    "    compartment=\"c\")\n",
    "\n",
    "pgk_adp_atp_c = PGK.make_enzyme_module_form(\n",
    "    \"pgk_adp_atp_c\",\n",
    "    name=\"automatic\",\n",
    "    categories=\"Inhibited\",\n",
    "    bound_metabolites={adp_c: 1, atp_c: 1},\n",
    "    compartment=\"c\")\n",
    "\n",
    "# Print automatically generated names\n",
    "for enzyme_form in PGK.enzyme_module_forms:\n",
    "    print(\"Bound to sites of {0}:\\n{1}\\n\".format(\n",
    "        enzyme_form.id, {\n",
    "            ligand.id: coeff\n",
    "            for ligand, coeff in enzyme_form.bound_metabolites.items()}))\n",
    "    \n",
    "    \n",
    "for group in PGK.enzyme_module_forms_categorized:\n",
    "    print(\"{0}: {1}\".format(\n",
    "        group.id, str(sorted([m.id for m in group.members]))))"
   ]
  },
  {
   "cell_type": "code",
   "execution_count": 6,
   "metadata": {
    "scrolled": true
   },
   "outputs": [
    {
     "name": "stdout",
     "output_type": "stream",
     "text": [
      "PGK_1: _13dpg_c + pgk_c <=> pgk__13dpg_c\n",
      "PGK_2: adp_c + pgk_c <=> pgk_adp_c\n",
      "PGK_3: _13dpg_c + pgk_adp_c <=> pgk__13dpg_adp_c\n",
      "PGK_4: adp_c + pgk__13dpg_c <=> pgk__13dpg_adp_c\n",
      "PGK_5: pgk__13dpg_adp_c <=> _3pg_c + atp_c + pgk_c\n",
      "PGK_6: _23dpg_c + pgk_c <=> pgk__23dpg_c\n",
      "PGK_7: _3pg_c + pgk_c <=> pgk__3pg_c\n",
      "PGK_8: atp_c + pgk__13dpg_c <=> pgk__13dpg_atp_c\n",
      "PGK_9: atp_c + pgk_adp_c <=> pgk_adp_atp_c\n",
      "\n",
      "\n",
      "_13dpg_c_binding: ['PGK_1', 'PGK_3']\n",
      "adp_c_binding: ['PGK_2', 'PGK_4']\n",
      "catalyzation: ['PGK_5']\n",
      "_23dpg_c_inhibition: ['PGK_6']\n",
      "_3pg_c_inhibition: ['PGK_7']\n",
      "atp_c_inhibition: ['PGK_8', 'PGK_9']\n"
     ]
    }
   ],
   "source": [
    "PGK_1 = PGK.make_enzyme_module_reaction(\n",
    "    \"PGK_1\",\n",
    "    name=\"Automatic\",\n",
    "    subsystem=\"Glycolysis\",\n",
    "    reversible=True,\n",
    "    categories=\"_13dpg_c_binding\",\n",
    "    metabolites_to_add={\n",
    "        \"pgk_c\": -1,\n",
    "        \"_13dpg_c\": -1,\n",
    "        \"pgk__13dpg_c\": 1})\n",
    "\n",
    "PGK_2 = PGK.make_enzyme_module_reaction(\n",
    "    \"PGK_2\",\n",
    "    name=\"Automatic\",\n",
    "    subsystem=\"Glycolysis\",\n",
    "    reversible=True,\n",
    "    categories=\"adp_c_binding\",\n",
    "    metabolites_to_add={\n",
    "        \"pgk_c\": -1,\n",
    "        \"adp_c\": -1,\n",
    "        \"pgk_adp_c\": 1})\n",
    "\n",
    "PGK_3 = PGK.make_enzyme_module_reaction(\n",
    "    \"PGK_3\",\n",
    "    name=\"Automatic\",\n",
    "    subsystem=\"Glycolysis\",\n",
    "    reversible=True,\n",
    "    categories=\"_13dpg_c_binding\",\n",
    "    metabolites_to_add={\n",
    "        \"pgk_adp_c\": -1,\n",
    "        \"_13dpg_c\": -1,\n",
    "        \"pgk__13dpg_adp_c\": 1})\n",
    "\n",
    "PGK_4 = PGK.make_enzyme_module_reaction(\n",
    "    \"PGK_4\",\n",
    "    name=\"Automatic\",\n",
    "    subsystem=\"Glycolysis\",\n",
    "    reversible=True,\n",
    "    categories=\"adp_c_binding\",\n",
    "    metabolites_to_add={\n",
    "        \"pgk__13dpg_c\": -1,\n",
    "        \"adp_c\": -1,\n",
    "        \"pgk__13dpg_adp_c\": 1})\n",
    "\n",
    "PGK_5 = PGK.make_enzyme_module_reaction(\n",
    "    \"PGK_5\",\n",
    "    name=\"Automatic\",\n",
    "    subsystem=\"Glycolysis\",\n",
    "    reversible=True,\n",
    "    categories=\"catalyzation\",\n",
    "    metabolites_to_add={\n",
    "        \"pgk__13dpg_adp_c\": -1,\n",
    "        \"_3pg_c\": 1,\n",
    "        \"pgk_c\": 1,\n",
    "        \"atp_c\": 1})\n",
    "\n",
    "\n",
    "PGK_6 = PGK.make_enzyme_module_reaction(\n",
    "    \"PGK_6\",\n",
    "    name=\"Automatic\",\n",
    "    subsystem=\"Glycolysis\",\n",
    "    reversible=True,\n",
    "    categories=\"_23dpg_c_inhibition\",\n",
    "    metabolites_to_add={\n",
    "        \"_23dpg_c\": -1,\n",
    "        \"pgk_c\": -1,\n",
    "        \"pgk__23dpg_c\": 1})\n",
    "\n",
    "\n",
    "PGK_7 = PGK.make_enzyme_module_reaction(\n",
    "    \"PGK_7\",\n",
    "    name=\"Automatic\",\n",
    "    subsystem=\"Glycolysis\",\n",
    "    reversible=True,\n",
    "    categories=\"_3pg_c_inhibition\",\n",
    "    metabolites_to_add={\n",
    "        \"_3pg_c\": -1,\n",
    "        \"pgk_c\": -1,\n",
    "        \"pgk__3pg_c\": 1})\n",
    "\n",
    "PGK_8 = PGK.make_enzyme_module_reaction(\n",
    "    \"PGK_8\",\n",
    "    name=\"Automatic\",\n",
    "    subsystem=\"Glycolysis\",\n",
    "    reversible=True,\n",
    "    categories=\"atp_c_inhibition\",\n",
    "    metabolites_to_add={\n",
    "        \"pgk__13dpg_c\": -1,\n",
    "        \"atp_c\": -1,\n",
    "        \"pgk__13dpg_atp_c\": 1})\n",
    "\n",
    "PGK_9 = PGK.make_enzyme_module_reaction(\n",
    "    \"PGK_9\",\n",
    "    name=\"Automatic\",\n",
    "    subsystem=\"Glycolysis\",\n",
    "    reversible=True,\n",
    "    categories=\"atp_c_inhibition\",\n",
    "    metabolites_to_add={\n",
    "        \"atp_c\": -1,\n",
    "        \"pgk_adp_c\": -1,\n",
    "        \"pgk_adp_atp_c\": 1})\n",
    "\n",
    "\n",
    "for reaction in PGK.enzyme_module_reactions:\n",
    "    print(reaction)\n",
    "    \n",
    "print('\\n')\n",
    "for group in PGK.enzyme_module_reactions_categorized:\n",
    "    print(\"{0}: {1}\".format(\n",
    "        group.id, str(sorted([m.id for m in group.members]))))"
   ]
  },
  {
   "cell_type": "markdown",
   "metadata": {},
   "source": [
    "## Unify rate parameters"
   ]
  },
  {
   "cell_type": "code",
   "execution_count": 7,
   "metadata": {},
   "outputs": [
    {
     "name": "stdout",
     "output_type": "stream",
     "text": [
      "\n",
      "_13dpg_c_binding\n",
      "----------------\n",
      "PGK_1: kf_PGK_D*(_13dpg_c(t)*pgk_c(t) - pgk__13dpg_c(t)/Keq_PGK_D)\n",
      "PGK_3: kf_PGK_D*(_13dpg_c(t)*pgk_adp_c(t) - pgk__13dpg_adp_c(t)/Keq_PGK_D)\n",
      "\n",
      "adp_c_binding\n",
      "-------------\n",
      "PGK_2: kf_PGK_A*(adp_c(t)*pgk_c(t) - pgk_adp_c(t)/Keq_PGK_A)\n",
      "PGK_4: kf_PGK_A*(adp_c(t)*pgk__13dpg_c(t) - pgk__13dpg_adp_c(t)/Keq_PGK_A)\n"
     ]
    }
   ],
   "source": [
    "for ligand, pid in zip([_13dpg_c, adp_c],[\"D\", \"A\"]):\n",
    "    # Get the group of reactions corresponding to the ligand\n",
    "    category = \"_\".join((ligand.id, \"binding\"))\n",
    "    group = PGK.enzyme_module_reactions_categorized.get_by_id(category)\n",
    "\n",
    "    # Unify the parameters\n",
    "    PGK.unify_rate_parameters(\n",
    "        group.members, new_parameter_id=pid, enzyme_prefix=True)\n",
    "\n",
    "    # Print the new reaction rates\n",
    "    print(\"\\n\" + category + \"\\n\" + \"-\" * len(category))\n",
    "    for reaction in sorted(group.members, key=attrgetter(\"id\")):\n",
    "        print(reaction.id + \": \" + str(reaction.rate))"
   ]
  },
  {
   "cell_type": "code",
   "execution_count": 8,
   "metadata": {},
   "outputs": [
    {
     "data": {
      "text/html": [
       "<div>\n",
       "<style scoped>\n",
       "    .dataframe tbody tr th:only-of-type {\n",
       "        vertical-align: middle;\n",
       "    }\n",
       "\n",
       "    .dataframe tbody tr th {\n",
       "        vertical-align: top;\n",
       "    }\n",
       "\n",
       "    .dataframe thead th {\n",
       "        text-align: right;\n",
       "    }\n",
       "</style>\n",
       "<table border=\"1\" class=\"dataframe\">\n",
       "  <thead>\n",
       "    <tr style=\"text-align: right;\">\n",
       "      <th></th>\n",
       "      <th>PGK_1</th>\n",
       "      <th>PGK_2</th>\n",
       "      <th>PGK_3</th>\n",
       "      <th>PGK_4</th>\n",
       "      <th>PGK_5</th>\n",
       "      <th>PGK_6</th>\n",
       "      <th>PGK_7</th>\n",
       "      <th>PGK_8</th>\n",
       "      <th>PGK_9</th>\n",
       "    </tr>\n",
       "  </thead>\n",
       "  <tbody>\n",
       "    <tr>\n",
       "      <th>pgk_c</th>\n",
       "      <td>-1</td>\n",
       "      <td>-1</td>\n",
       "      <td>0</td>\n",
       "      <td>0</td>\n",
       "      <td>1</td>\n",
       "      <td>-1</td>\n",
       "      <td>-1</td>\n",
       "      <td>0</td>\n",
       "      <td>0</td>\n",
       "    </tr>\n",
       "    <tr>\n",
       "      <th>pgk__13dpg_c</th>\n",
       "      <td>1</td>\n",
       "      <td>0</td>\n",
       "      <td>0</td>\n",
       "      <td>-1</td>\n",
       "      <td>0</td>\n",
       "      <td>0</td>\n",
       "      <td>0</td>\n",
       "      <td>-1</td>\n",
       "      <td>0</td>\n",
       "    </tr>\n",
       "    <tr>\n",
       "      <th>pgk_adp_c</th>\n",
       "      <td>0</td>\n",
       "      <td>1</td>\n",
       "      <td>-1</td>\n",
       "      <td>0</td>\n",
       "      <td>0</td>\n",
       "      <td>0</td>\n",
       "      <td>0</td>\n",
       "      <td>0</td>\n",
       "      <td>-1</td>\n",
       "    </tr>\n",
       "    <tr>\n",
       "      <th>pgk__13dpg_adp_c</th>\n",
       "      <td>0</td>\n",
       "      <td>0</td>\n",
       "      <td>1</td>\n",
       "      <td>1</td>\n",
       "      <td>-1</td>\n",
       "      <td>0</td>\n",
       "      <td>0</td>\n",
       "      <td>0</td>\n",
       "      <td>0</td>\n",
       "    </tr>\n",
       "    <tr>\n",
       "      <th>pgk__23dpg_c</th>\n",
       "      <td>0</td>\n",
       "      <td>0</td>\n",
       "      <td>0</td>\n",
       "      <td>0</td>\n",
       "      <td>0</td>\n",
       "      <td>1</td>\n",
       "      <td>0</td>\n",
       "      <td>0</td>\n",
       "      <td>0</td>\n",
       "    </tr>\n",
       "    <tr>\n",
       "      <th>pgk__3pg_c</th>\n",
       "      <td>0</td>\n",
       "      <td>0</td>\n",
       "      <td>0</td>\n",
       "      <td>0</td>\n",
       "      <td>0</td>\n",
       "      <td>0</td>\n",
       "      <td>1</td>\n",
       "      <td>0</td>\n",
       "      <td>0</td>\n",
       "    </tr>\n",
       "    <tr>\n",
       "      <th>pgk__13dpg_atp_c</th>\n",
       "      <td>0</td>\n",
       "      <td>0</td>\n",
       "      <td>0</td>\n",
       "      <td>0</td>\n",
       "      <td>0</td>\n",
       "      <td>0</td>\n",
       "      <td>0</td>\n",
       "      <td>1</td>\n",
       "      <td>0</td>\n",
       "    </tr>\n",
       "    <tr>\n",
       "      <th>pgk_adp_atp_c</th>\n",
       "      <td>0</td>\n",
       "      <td>0</td>\n",
       "      <td>0</td>\n",
       "      <td>0</td>\n",
       "      <td>0</td>\n",
       "      <td>0</td>\n",
       "      <td>0</td>\n",
       "      <td>0</td>\n",
       "      <td>1</td>\n",
       "    </tr>\n",
       "  </tbody>\n",
       "</table>\n",
       "</div>"
      ],
      "text/plain": [
       "                  PGK_1  PGK_2  PGK_3  PGK_4  PGK_5  PGK_6  PGK_7  PGK_8  \\\n",
       "pgk_c                -1     -1      0      0      1     -1     -1      0   \n",
       "pgk__13dpg_c          1      0      0     -1      0      0      0     -1   \n",
       "pgk_adp_c             0      1     -1      0      0      0      0      0   \n",
       "pgk__13dpg_adp_c      0      0      1      1     -1      0      0      0   \n",
       "pgk__23dpg_c          0      0      0      0      0      1      0      0   \n",
       "pgk__3pg_c            0      0      0      0      0      0      1      0   \n",
       "pgk__13dpg_atp_c      0      0      0      0      0      0      0      1   \n",
       "pgk_adp_atp_c         0      0      0      0      0      0      0      0   \n",
       "\n",
       "                  PGK_9  \n",
       "pgk_c                 0  \n",
       "pgk__13dpg_c          0  \n",
       "pgk_adp_c            -1  \n",
       "pgk__13dpg_adp_c      0  \n",
       "pgk__23dpg_c          0  \n",
       "pgk__3pg_c            0  \n",
       "pgk__13dpg_atp_c      0  \n",
       "pgk_adp_atp_c         1  "
      ]
     },
     "execution_count": 8,
     "metadata": {},
     "output_type": "execute_result"
    }
   ],
   "source": [
    "PGK.update_S(array_type=\"DataFrame\", dtype=int)\n",
    "PGK.S[5:]"
   ]
  },
  {
   "cell_type": "code",
   "execution_count": 9,
   "metadata": {},
   "outputs": [
    {
     "name": "stdout",
     "output_type": "stream",
     "text": [
      "Rank Deficiency: 1\n"
     ]
    }
   ],
   "source": [
    "ode_dict = {\n",
    "    enzyme_form.id: Eq(strip_time(enzyme_form.ode), 0)\n",
    "    for enzyme_form in PGK.enzyme_module_forms}\n",
    "# Matrix rank of enzyme stoichiometric matrix without substrates\n",
    "rank = matrix_rank(PGK.S[5:])\n",
    "print(\"Rank Deficiency: {0}\".format(len(ode_dict) - rank))"
   ]
  },
  {
   "cell_type": "code",
   "execution_count": 10,
   "metadata": {},
   "outputs": [],
   "source": [
    "enzyme_solutions = {}\n",
    "\n",
    "enzyme_module_forms = PGK.enzyme_module_forms.copy()\n",
    "enzyme_module_forms.reverse() #reverses the order, assumes you defined forms in substrate->product direction\n",
    "\n",
    "\n",
    "for enzyme_form in enzyme_module_forms:\n",
    "    # Skip dependent variable\n",
    "    if enzyme_form.id == \"pgk_c\":\n",
    "        continue\n",
    "    # Get the ODE for the enzyme form from the ODE dict\n",
    "    equation = ode_dict[enzyme_form.id]\n",
    "    # Solve the equation for the enzyme form, substituting\n",
    "    # previously found enzyme form solutions into the equation\n",
    "    solution = solveset(equation.subs(enzyme_solutions),\n",
    "                        enzyme_form.id)\n",
    "    # Store the solution\n",
    "    enzyme_solutions[enzyme_form.id] = list(solution)[0]\n",
    "    # Substitute the new solution into existing solutions\n",
    "    enzyme_solutions.update({\n",
    "        enzyme_form: sol.subs(enzyme_solutions)\n",
    "        for enzyme_form, sol in enzyme_solutions.items()})\n",
    "\n",
    "args = set()\n",
    "for solution in enzyme_solutions.values():\n",
    "    args.update(solution.atoms(Symbol))"
   ]
  },
  {
   "cell_type": "markdown",
   "metadata": {},
   "source": [
    "## Defining rate constant"
   ]
  },
  {
   "cell_type": "code",
   "execution_count": 11,
   "metadata": {},
   "outputs": [
    {
     "name": "stdout",
     "output_type": "stream",
     "text": [
      "kf_PGK_5*(Keq_PGK_5*pgk__13dpg_adp_c(t) - _3pg_c(t)*atp_c(t)*pgk_c(t))/Keq_PGK_5\n"
     ]
    }
   ],
   "source": [
    "# Get the catalyzation reactions\n",
    "catalyzation_group = PGK.enzyme_module_reactions_categorized.get_by_id(\n",
    "    \"catalyzation\")\n",
    "\n",
    "PGK.make_enzyme_rate_equation(catalyzation_group.members,\n",
    "                               use_rates=True,\n",
    "                               update_enzyme=True)\n",
    "\n",
    "print(PGK.enzyme_rate_equation)"
   ]
  },
  {
   "cell_type": "code",
   "execution_count": 12,
   "metadata": {},
   "outputs": [
    {
     "name": "stdout",
     "output_type": "stream",
     "text": [
      "v_PGK - kf_PGK_5*(Keq_PGK_5*pgk__13dpg_adp_c - _3pg_c*atp_c*pgk_c)/Keq_PGK_5\n"
     ]
    }
   ],
   "source": [
    "enzyme_rate_equation = strip_time(PGK.enzyme_rate_error(use_values=False))\n",
    "print(enzyme_rate_equation)"
   ]
  },
  {
   "cell_type": "code",
   "execution_count": 13,
   "metadata": {},
   "outputs": [
    {
     "name": "stdout",
     "output_type": "stream",
     "text": [
      "{v_PGK, _13dpg_c, kf_PGK_5, Keq_PGK_D, atp_c, Keq_PGK_8, _3pg_c, Keq_PGK_A, Keq_PGK_9, Keq_PGK_6, adp_c, kf_PGK_A, Keq_PGK_7, kf_PGK_D, Keq_PGK_5, _23dpg_c}\n"
     ]
    }
   ],
   "source": [
    "# Solve for last unknown concentration symbolically\n",
    "solution = solveset(enzyme_rate_equation.subs(enzyme_solutions),\n",
    "                    \"pgk_c\")\n",
    "\n",
    "\n",
    "# Update solution dictionary with the new solution\n",
    "enzyme_solutions[\"pgk_c\"] = list(solution)[0]\n",
    "\n",
    "# Update solutions with free variable solutions\n",
    "enzyme_solutions = {\n",
    "    enzyme_form: simplify(solution.subs(enzyme_solutions))\n",
    "    for enzyme_form, solution in enzyme_solutions.items()}\n",
    "\n",
    "args = set()\n",
    "for solution in enzyme_solutions.values():\n",
    "    args.update(solution.atoms(Symbol))\n",
    "print(args)"
   ]
  },
  {
   "cell_type": "code",
   "execution_count": 14,
   "metadata": {},
   "outputs": [],
   "source": [
    "numerical_values = {\n",
    "    \"Keq_PGK_D\": 1/0.000056,\n",
    "    \"Keq_PGK_A\": 1 / 0.029,\n",
    "    \"Keq_PGK_5\": 0.00374194,\n",
    "    \"Keq_PGK_6\": 1 / 2.4,\n",
    "    \"Keq_PGK_7\": 1 / 0.205,\n",
    "    \"Keq_PGK_8\": 1/ 1.87,\n",
    "    \"Keq_PGK_9\": 1/ 0.45}\n",
    "# Update the model with the parameters\n",
    "PGK.update_parameters(numerical_values)"
   ]
  },
  {
   "cell_type": "code",
   "execution_count": 15,
   "metadata": {},
   "outputs": [],
   "source": [
    "# import rbc model\n",
    "from os.path import join\n",
    "\n",
    "core_rbc = json.load_json_model(join(\"\", \"../models/RBC_RBC.json\"))"
   ]
  },
  {
   "cell_type": "code",
   "execution_count": 16,
   "metadata": {},
   "outputs": [],
   "source": [
    "# Get steady state flux for EnzymeModule\n",
    "PGK.enzyme_rate = core_rbc.reactions.get_by_id(\"PGK\").steady_state_flux\n",
    "numerical_values[PGK.enzyme_flux_symbol_str] = PGK.enzyme_rate\n",
    "\n",
    "# Get the ligand concentrations\n",
    "for met in PGK.enzyme_module_ligands:\n",
    "    concentration = core_rbc.metabolites.get_by_id(met.id).initial_condition\n",
    "    # Set the ligand initial condition and add to numercal values dictionary\n",
    "    met.initial_condition = concentration\n",
    "    numerical_values[met.id] = concentration"
   ]
  },
  {
   "cell_type": "code",
   "execution_count": 17,
   "metadata": {},
   "outputs": [
    {
     "name": "stdout",
     "output_type": "stream",
     "text": [
      "{kf_PGK_D, kf_PGK_5, kf_PGK_A}\n"
     ]
    }
   ],
   "source": [
    "enzyme_solutions = {\n",
    "    enzyme_form: simplify(sol.subs(numerical_values))\n",
    "    for enzyme_form, sol in enzyme_solutions.items()}\n",
    "\n",
    "args = set()\n",
    "for solution in enzyme_solutions.values():\n",
    "    args.update(solution.atoms(Symbol))\n",
    "print(args)"
   ]
  },
  {
   "cell_type": "code",
   "execution_count": 18,
   "metadata": {},
   "outputs": [
    {
     "data": {
      "text/plain": [
       "{'Keq_PGK_D': 17857.14285714286,\n",
       " 'Keq_PGK_A': 34.48275862068965,\n",
       " 'Keq_PGK_5': 0.00374194,\n",
       " 'Keq_PGK_6': 0.4166666666666667,\n",
       " 'Keq_PGK_7': 4.878048780487805,\n",
       " 'Keq_PGK_8': 0.53475935828877,\n",
       " 'Keq_PGK_9': 2.2222222222222223,\n",
       " 'v_PGK': 1.7584797272120862,\n",
       " '_13dpg_c': 0.000305102571904311,\n",
       " '_3pg_c': 0.09747344554509503,\n",
       " 'adp_c': 0.22421213834735115,\n",
       " 'atp_c': 1.232668210479202,\n",
       " '_23dpg_c': 3.8922550325241327}"
      ]
     },
     "execution_count": 18,
     "metadata": {},
     "output_type": "execute_result"
    }
   ],
   "source": [
    "numerical_values"
   ]
  },
  {
   "cell_type": "markdown",
   "metadata": {},
   "source": [
    "## Aproximating Rate Constant"
   ]
  },
  {
   "cell_type": "code",
   "execution_count": 19,
   "metadata": {},
   "outputs": [],
   "source": [
    "from scipy.optimize import minimize"
   ]
  },
  {
   "cell_type": "code",
   "execution_count": 20,
   "metadata": {},
   "outputs": [
    {
     "name": "stdout",
     "output_type": "stream",
     "text": [
      "Abs(-PGK_Total + pgk__13dpg_adp_c + pgk__13dpg_atp_c + pgk__13dpg_c + pgk__23dpg_c + pgk__3pg_c + pgk_adp_atp_c + pgk_adp_c + pgk_c)\n"
     ]
    }
   ],
   "source": [
    "enzyme_total_error = abs(\n",
    "    Symbol(PGK.enzyme_total_symbol_str)\n",
    "    - strip_time(PGK.enzyme_concentration_total_equation))\n",
    "print(enzyme_total_error)"
   ]
  },
  {
   "cell_type": "code",
   "execution_count": 21,
   "metadata": {},
   "outputs": [
    {
     "name": "stdout",
     "output_type": "stream",
     "text": [
      "Abs((-2495870.1662988*kf_PGK_5*kf_PGK_A**3*kf_PGK_D + 179606783761612.0*kf_PGK_5*kf_PGK_A**3 - 7118.65664949601*kf_PGK_5*kf_PGK_A**2*kf_PGK_D**2 + 2009072676989.71*kf_PGK_5*kf_PGK_A**2*kf_PGK_D - 5.07591231884486*kf_PGK_5*kf_PGK_A*kf_PGK_D**3 + 2940401032.9875*kf_PGK_5*kf_PGK_A*kf_PGK_D**2 + 628275.60670004*kf_PGK_5*kf_PGK_D**3 + 13304447866.9811*kf_PGK_A**3*kf_PGK_D + 37946603.7757109*kf_PGK_A**2*kf_PGK_D**2 + 27057.5816544112*kf_PGK_A*kf_PGK_D**3)/(kf_PGK_5*kf_PGK_A*kf_PGK_D*(910901520.547008*kf_PGK_A**2 + 2598049.87207884*kf_PGK_A*kf_PGK_D + 1852.52274410396*kf_PGK_D**2)))\n"
     ]
    }
   ],
   "source": [
    "PGK.enzyme_concentration_total = 0.00274\n",
    "enzyme_total_error = enzyme_total_error.subs({\n",
    "    PGK.enzyme_total_symbol_str: PGK.enzyme_concentration_total})\n",
    "\n",
    "enzyme_total_error = simplify(enzyme_total_error.subs(enzyme_solutions))\n",
    "\n",
    "print(enzyme_total_error)"
   ]
  },
  {
   "cell_type": "code",
   "execution_count": 22,
   "metadata": {},
   "outputs": [],
   "source": [
    "# Sort the arguments to ensure input format remains consistent\n",
    "args = sorted(list(map(str, args)))\n",
    "# Use lambdify to make objective function as a lambda function\n",
    "obj_fun = lambda x: lambdify(args, enzyme_total_error)(*x)"
   ]
  },
  {
   "cell_type": "code",
   "execution_count": 23,
   "metadata": {},
   "outputs": [
    {
     "name": "stderr",
     "output_type": "stream",
     "text": [
      "/opt/conda/lib/python3.7/site-packages/scipy/optimize/_hessian_update_strategy.py:187 \u001b[1;31mUserWarning\u001b[0m: delta_grad == 0.0. Check if the approximated function is linear. If the function is linear better results can be obtained by defining the Hessian as zero instead of using quasi-Newton approximations.\n"
     ]
    },
    {
     "name": "stdout",
     "output_type": "stream",
     "text": [
      "`xtol` termination condition is satisfied.\n",
      "Number of iterations: 123, function evaluations: 416, CG iterations: 193, optimality: 4.10e-11, constraint violation: 0.00e+00, execution time:  4.1 s.\n",
      "{'kf_PGK_5': 459378.4061248458, 'kf_PGK_A': 21932630.154759776, 'kf_PGK_D': 74869688.40508159}\n"
     ]
    }
   ],
   "source": [
    "# Minimize the objective function, initial guess based on publication values\n",
    "initial_guess = [1e5,1e5,1e5]\n",
    "variable_bounds = ((0, 1e9), (0, 1e9), (0, 1e9))\n",
    "solution = minimize(obj_fun, x0=initial_guess,\n",
    "                    method=\"trust-constr\",\n",
    "                    bounds=variable_bounds, \n",
    "                    options={\"gtol\": 1e-12, \"xtol\": 1e-12, \"maxiter\": 1e4, \"disp\": True})\n",
    "# Map solution array to variables\n",
    "rate_constants = dict(zip(args, solution.x))\n",
    "print(rate_constants)"
   ]
  },
  {
   "cell_type": "code",
   "execution_count": 24,
   "metadata": {},
   "outputs": [],
   "source": [
    "rate_constants[\"kf_PGK_6\"] = 1e6\n",
    "rate_constants[\"kf_PGK_7\"] = 1e6\n",
    "rate_constants[\"kf_PGK_8\"] = 1e6\n",
    "rate_constants[\"kf_PGK_9\"] = 1e6\n",
    "PGK.update_parameters(rate_constants)"
   ]
  },
  {
   "cell_type": "markdown",
   "metadata": {},
   "source": [
    "## Calculate numerical value"
   ]
  },
  {
   "cell_type": "code",
   "execution_count": 25,
   "metadata": {},
   "outputs": [
    {
     "name": "stdout",
     "output_type": "stream",
     "text": [
      "pgk_adp_atp_c: 8.118552e-04\n",
      "pgk__13dpg_atp_c: 1.061629e-04\n",
      "pgk__3pg_c: 1.837700e-05\n",
      "pgk__23dpg_c: 6.268045e-05\n",
      "pgk__13dpg_adp_c: 1.244845e-03\n",
      "pgk_adp_c: 2.963773e-04\n",
      "pgk__13dpg_c: 1.610527e-04\n",
      "pgk_c: 3.864934e-05\n"
     ]
    }
   ],
   "source": [
    "for enzyme_form, solution in enzyme_solutions.items():\n",
    "    # Get the enzyme form object, determine the steady state concentration\n",
    "    enzyme_form = PGK.enzyme_module_forms.get_by_id(enzyme_form)\n",
    "    enzyme_form.initial_condition = float(solution.subs(rate_constants))\n",
    "    print(\"{0}: {1:e}\".format(enzyme_form.id,\n",
    "                              enzyme_form.initial_condition))"
   ]
  },
  {
   "cell_type": "markdown",
   "metadata": {},
   "source": [
    "## Error Value"
   ]
  },
  {
   "cell_type": "code",
   "execution_count": 26,
   "metadata": {},
   "outputs": [
    {
     "name": "stdout",
     "output_type": "stream",
     "text": [
      "Total Enzyme Concentration Error: -9.646659014130032e-14\n"
     ]
    }
   ],
   "source": [
    "print(\"Total Enzyme Concentration Error: {0}\".format(\n",
    "    PGK.enzyme_concentration_total_error(use_values=True)))"
   ]
  },
  {
   "cell_type": "code",
   "execution_count": 27,
   "metadata": {},
   "outputs": [
    {
     "name": "stdout",
     "output_type": "stream",
     "text": [
      "Enzyme Rate Error: -5.162537064506978e-13\n"
     ]
    }
   ],
   "source": [
    "print(\"Enzyme Rate Error: {0}\".format(\n",
    "    PGK.enzyme_rate_error(use_values=True)))"
   ]
  },
  {
   "cell_type": "markdown",
   "metadata": {},
   "source": [
    "## Quality Control and Assurance Check"
   ]
  },
  {
   "cell_type": "code",
   "execution_count": 28,
   "metadata": {},
   "outputs": [
    {
     "name": "stdout",
     "output_type": "stream",
     "text": [
      "╒══════════════════════════════════════════╕\n",
      "│ MODEL ID: PGK                            │\n",
      "│ SIMULATABLE: True                        │\n",
      "│ PARAMETERS NUMERICALY CONSISTENT: True   │\n",
      "╞══════════════════════════════════════════╡\n",
      "╘══════════════════════════════════════════╛\n"
     ]
    }
   ],
   "source": [
    "qcqa_model(PGK, parameters=True, concentrations=True,\n",
    "           fluxes=False, superfluous=True, elemental=True)"
   ]
  },
  {
   "cell_type": "markdown",
   "metadata": {},
   "source": [
    "## Validation by adding to core_rbc"
   ]
  },
  {
   "cell_type": "code",
   "execution_count": 29,
   "metadata": {},
   "outputs": [],
   "source": [
    "core_rbc_PGK = core_rbc.merge(PGK, inplace=False)\n",
    "core_rbc_PGK.remove_reactions([\n",
    "    core_rbc_PGK.reactions.get_by_id(\"PGK\")])"
   ]
  },
  {
   "cell_type": "code",
   "execution_count": 30,
   "metadata": {},
   "outputs": [
    {
     "data": {
      "text/html": [
       "\n",
       "            <table>\n",
       "                <tr>\n",
       "                    <td><strong>Name</strong></td><td>RBC_PGK</td>\n",
       "                </tr><tr>\n",
       "                    <td><strong>Memory address</strong></td><td>0x07eff7d5991d0</td>\n",
       "                </tr><tr>\n",
       "                    <td><strong>Stoichiometric Matrix</strong></td>\n",
       "                    <td>56x61</td>\n",
       "                </tr><tr>\n",
       "                    <td><strong>Matrix Rank</strong></td>\n",
       "                    <td>51</td>\n",
       "                </tr><tr>\n",
       "                    <td><strong>Number of metabolites</strong></td>\n",
       "                    <td>56</td>\n",
       "                </tr><tr>\n",
       "                    <td><strong>Initial conditions defined</strong></td>\n",
       "                    <td>56/56</td>\n",
       "                </tr><tr>\n",
       "                    <td><strong>Number of reactions</strong></td>\n",
       "                    <td>61</td>\n",
       "                </tr><tr>\n",
       "                    <td><strong>Number of genes</strong></td>\n",
       "                    <td>0</td>\n",
       "                </tr><tr>\n",
       "                    <td><strong>Number of enzyme modules</strong></td>\n",
       "                    <td>1</td>\n",
       "                </tr><tr>\n",
       "                    <td><strong>Number of groups</strong></td>\n",
       "                    <td>13</td>\n",
       "                </tr><tr>\n",
       "                    <td><strong>Objective expression</strong></td>\n",
       "                    <td>0</td>\n",
       "                </tr><tr>\n",
       "                    <td><strong>Compartments</strong></td>\n",
       "                    <td>Cytosol</td>\n",
       "                </tr>\n",
       "            </table>\n",
       "        "
      ],
      "text/plain": [
       "<MassModel RBC_PGK at 0x7eff7d5991d0>"
      ]
     },
     "execution_count": 30,
     "metadata": {},
     "output_type": "execute_result"
    }
   ],
   "source": [
    "core_rbc_PGK"
   ]
  },
  {
   "cell_type": "code",
   "execution_count": 31,
   "metadata": {},
   "outputs": [
    {
     "name": "stderr",
     "output_type": "stream",
     "text": [
      "/opt/conda/lib/python3.7/site-packages/roadrunner/roadrunner.py:3944 \u001b[1;31mUserWarning\u001b[0m: Simulation requested end point (100000000.0) not reached, because the maximum number of steps reached.  Possible solutions include:\n",
      "  * Setting an explicit number of points (i.e. r.simulate(0, 100000000.0, 1001)\n",
      "  * Setting r.integrator.variable_step_size to 'False'\n",
      "* Setting \n",
      "/opt/conda/lib/python3.7/site-packages/roadrunner/roadrunner.py:3957 \u001b[1;31mUserWarning\u001b[0m: Simulation returned more points than max output rows specified. Try incresing the number of maximum output rows or minimum step size.\n"
     ]
    },
    {
     "data": {
      "image/png": "[encoded data removed]",
      "text/plain": [
       "<Figure size 432x288 with 1 Axes>"
      ]
     },
     "metadata": {
      "needs_background": "light"
     },
     "output_type": "display_data"
    }
   ],
   "source": [
    "t0, tf = (0, 1e3)\n",
    "sim_core_rbc_PGK = Simulation(core_rbc_PGK)\n",
    "sim_core_rbc_PGK.find_steady_state(\n",
    "    core_rbc_PGK, strategy=\"simulate\",\n",
    "    update_values=True)\n",
    "conc_sol_ss, flux_sol_ss = sim_core_rbc_PGK.simulate(\n",
    "    core_rbc_PGK, time=(t0, tf, tf*10 + 1))\n",
    "\n",
    "# Quickly render and display time profiles\n",
    "conc_sol_ss.view_time_profile()"
   ]
  },
  {
   "cell_type": "code",
   "execution_count": 32,
   "metadata": {},
   "outputs": [
    {
     "data": {
      "image/png": "[encoded data removed]",
      "text/plain": [
       "<Figure size 432x288 with 1 Axes>"
      ]
     },
     "metadata": {
      "needs_background": "light"
     },
     "output_type": "display_data"
    }
   ],
   "source": [
    "conc_sol_ss.view_time_profile(plot_function=\"semilogx\")"
   ]
  },
  {
   "cell_type": "markdown",
   "metadata": {},
   "source": [
    "## Export model"
   ]
  },
  {
   "cell_type": "code",
   "execution_count": 33,
   "metadata": {},
   "outputs": [],
   "source": [
    "for group in PGK.groups:\n",
    "    group.id = \"_\".join((PGK.id, group.id))\n",
    "\n",
    "# Export as JSON\n",
    "\n",
    "path_to_json_model = \"../models/PGK_PGK.json\"\n",
    "mass.io.json.save_json_model(PGK, filename=path_to_json_model)"
   ]
  }
 ],
 "metadata": {
  "kernelspec": {
   "display_name": "Python 3",
   "language": "python",
   "name": "python3"
  },
  "language_info": {
   "codemirror_mode": {
    "name": "ipython",
    "version": 3
   },
   "file_extension": ".py",
   "mimetype": "text/x-python",
   "name": "python",
   "nbconvert_exporter": "python",
   "pygments_lexer": "ipython3",
   "version": "3.7.6"
  }
 },
 "nbformat": 4,
 "nbformat_minor": 5
}
