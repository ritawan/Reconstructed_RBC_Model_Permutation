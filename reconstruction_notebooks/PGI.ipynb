{
 "cells": [
  {
   "cell_type": "markdown",
   "id": "9f88ae25",
   "metadata": {},
   "source": [
    "# Glucose-6-phosphate isomerase (PGI)\n",
    "\n",
    "[Net reaction: g6p_c ⇌ f6p_c](http://bigg.ucsd.edu/models/iAB_RBC_283/reactions/PGI)\n",
    "\n",
    "\n",
    "## Information for reconstruction\n",
    "### Catalytic and regulatory mechanisms\n",
    "- Catalytic mechanism:\n",
    "$$\\begin{align}\n",
    "\\text{PGI_R1}&: \\text{PGI}_{c} + \\text{G6P}_{c} \\rightleftharpoons \\text{PGI}_{c}^\\mathrm{-G6P} \\\\\n",
    "\\text{PGI_R2}&: \\text{PGI}_{c}^\\mathrm{-G6P} \\rightleftharpoons \\text{PGI}_{c}^\\mathrm{-F6P} \\\\\n",
    "\\text{PGI_R3}&: \\text{PGI}_{c}^\\mathrm{-F6P} \\rightleftharpoons \\text{PGI}_{c} + \\text{F6P}_{c} \\\\\n",
    "\\end{align}$$\n",
    "\n",
    "- Regulatory mechanism(s): None\n",
    "\n",
    "\n",
    "### Numerical values\n",
    "- Total enzyme concentration: $\\text{[PGI]}_\\mathrm{total} = 0.000078\\ mM$\n",
    "- Dissociation constants:\n",
    "$$\\begin{align}\n",
    "K_\\mathrm{d, G6P} &= 0.85\\ mM \\\\ \n",
    "K_\\mathrm{d, F6P} &= 0.117\\ mM \\\\ \n",
    "\\end{align}$$\n",
    "\n",
    "\n",
    "- For the catalyzation step: $K_\\mathrm{PGI} =  2.97863$"
   ]
  },
  {
   "cell_type": "code",
   "execution_count": 1,
   "id": "8df0f726",
   "metadata": {},
   "outputs": [],
   "source": [
    "from os import path\n",
    "from os.path import join\n",
    "\n",
    "import matplotlib.pyplot as plt\n",
    "\n",
    "from scipy import optimize\n",
    "\n",
    "import sympy as sym\n",
    "\n",
    "import pandas as pd\n",
    "pd.set_option(\"display.max_columns\", 999)\n",
    "\n",
    "import numpy as np\n",
    "\n",
    "from cobra import DictList\n",
    "\n",
    "from mass.util.matrix import matrix_rank\n",
    "from mass import MassMetabolite, Simulation, UnitDefinition, strip_time\n",
    "from mass.enzyme_modules import EnzymeModule\n",
    "from mass.io import json, sbml\n",
    "from mass.util import Keq2k, k2Keq, strip_time, qcqa_model\n",
    "import mass.test\n",
    "from mass.test import create_test_model\n",
    "\n",
    "from sympy import Eq, Symbol, lambdify, simplify, solveset\n",
    "INF = float(\"inf\")"
   ]
  },
  {
   "cell_type": "code",
   "execution_count": 2,
   "id": "b2f588f6",
   "metadata": {},
   "outputs": [],
   "source": [
    "PGI = EnzymeModule(\"PGI\", name=\"Glucose-6-phosphate isomerase\", subsystem=\"Glycolysis\")"
   ]
  },
  {
   "cell_type": "code",
   "execution_count": 3,
   "id": "15f06bd3",
   "metadata": {},
   "outputs": [
    {
     "data": {
      "text/plain": [
       "[<MassMetabolite g6p_c at 0x7f8fa0da8cd0>,\n",
       " <MassMetabolite f6p_c at 0x7f8fa0da8c90>]"
      ]
     },
     "execution_count": 3,
     "metadata": {},
     "output_type": "execute_result"
    }
   ],
   "source": [
    "g6p_c = MassMetabolite(\n",
    "    \"g6p_c\",\n",
    "    name=\"D-Glucose 6-phosphate\",\n",
    "    formula=\"C6H11O9P\",\n",
    "    charge=-2,\n",
    "    compartment=\"c\")\n",
    "\n",
    "f6p_c = MassMetabolite(\n",
    "    \"f6p_c\",\n",
    "    name=\"D-Fructose 6-phosphate\",\n",
    "    formula=\"C6H11O9P\",\n",
    "    charge=-2,\n",
    "    compartment=\"c\")\n",
    "\n",
    "PGI.add_metabolites([ g6p_c, f6p_c])\n",
    "\n",
    "PGI.enzyme_module_ligands"
   ]
  },
  {
   "cell_type": "code",
   "execution_count": 4,
   "id": "c85dbab3",
   "metadata": {},
   "outputs": [
    {
     "name": "stdout",
     "output_type": "stream",
     "text": [
      "substrates: ['g6p_c']\n",
      "products: ['f6p_c']\n"
     ]
    }
   ],
   "source": [
    "PGI.enzyme_module_ligands_categorized =  {\n",
    "    \"substrates\": [g6p_c],\n",
    "    \"products\": [f6p_c]}\n",
    "PGI.enzyme_module_ligands_categorized\n",
    "\n",
    "for group in PGI.enzyme_module_ligands_categorized:\n",
    "    print(\"{0}: {1}\".format(\n",
    "        group.id, str(sorted([m.id for m in group.members]))))"
   ]
  },
  {
   "cell_type": "code",
   "execution_count": 5,
   "id": "628ddafe",
   "metadata": {},
   "outputs": [
    {
     "name": "stdout",
     "output_type": "stream",
     "text": [
      "Bound to sites of pgi_c:\n",
      "{}\n",
      "\n",
      "Bound to sites of pgi_g6p_c:\n",
      "{'g6p_c': 1}\n",
      "\n",
      "Bound to sites of pgi_f6p_c:\n",
      "{'f6p_c': 1}\n",
      "\n",
      "Active: ['pgi_c', 'pgi_f6p_c', 'pgi_g6p_c']\n"
     ]
    }
   ],
   "source": [
    "pgi_c = PGI.make_enzyme_module_form(\n",
    "    \"pgi_c\",\n",
    "    name=\"automatic\",\n",
    "    categories=\"Active\",\n",
    "    compartment=\"c\")\n",
    "\n",
    "pgi_g6p_c = PGI.make_enzyme_module_form(\n",
    "    \"pgi_g6p_c\",\n",
    "    name=\"automatic\",\n",
    "    categories=\"Active\",\n",
    "    bound_metabolites={g6p_c: 1},\n",
    "    compartment=\"c\")\n",
    "\n",
    "\n",
    "pgi_f6p_c = PGI.make_enzyme_module_form(\n",
    "    \"pgi_f6p_c\",\n",
    "    name=\"automatic\",\n",
    "    categories=\"Active\",\n",
    "    bound_metabolites={f6p_c: 1},\n",
    "    compartment=\"c\")\n",
    "\n",
    "\n",
    "# Print automatically generated names\n",
    "for enzyme_form in PGI.enzyme_module_forms:\n",
    "    print(\"Bound to sites of {0}:\\n{1}\\n\".format(\n",
    "        enzyme_form.id, {\n",
    "            ligand.id: coeff\n",
    "            for ligand, coeff in enzyme_form.bound_metabolites.items()}))\n",
    "    \n",
    "    \n",
    "for group in PGI.enzyme_module_forms_categorized:\n",
    "    print(\"{0}: {1}\".format(\n",
    "        group.id, str(sorted([m.id for m in group.members]))))"
   ]
  },
  {
   "cell_type": "code",
   "execution_count": 6,
   "id": "8521c2c5",
   "metadata": {},
   "outputs": [
    {
     "name": "stdout",
     "output_type": "stream",
     "text": [
      "PGI_1: g6p_c + pgi_c <=> pgi_g6p_c\n",
      "PGI_2: pgi_g6p_c <=> pgi_f6p_c\n",
      "PGI_3: pgi_f6p_c <=> f6p_c + pgi_c\n",
      "\n",
      "\n",
      "g6p_c_binding: ['PGI_1']\n",
      "catalyzation: ['PGI_2']\n",
      "f6p_releasing: ['PGI_3']\n"
     ]
    }
   ],
   "source": [
    "PGI_1 = PGI.make_enzyme_module_reaction(\n",
    "    \"PGI_1\",\n",
    "    name=\"Automatic\",\n",
    "    subsystem=\"Glycolysis\",\n",
    "    reversible=True,\n",
    "    categories=\"g6p_c_binding\",\n",
    "    metabolites_to_add={\n",
    "        \"pgi_c\": -1,\n",
    "        \"g6p_c\": -1,\n",
    "        \"pgi_g6p_c\": 1})\n",
    "\n",
    "PGI_2 = PGI.make_enzyme_module_reaction(\n",
    "    \"PGI_2\",\n",
    "    name=\"Automatic\",\n",
    "    subsystem=\"Glycolysis\",\n",
    "    reversible=True,\n",
    "    categories=\"catalyzation\",\n",
    "    metabolites_to_add={\n",
    "        \"pgi_g6p_c\": -1,\n",
    "        \"pgi_f6p_c\": 1})\n",
    "\n",
    "PGI_3 = PGI.make_enzyme_module_reaction(\n",
    "    \"PGI_3\",\n",
    "    name=\"Automatic\",\n",
    "    subsystem=\"Glycolysis\",\n",
    "    reversible=True,\n",
    "    categories=\"f6p_releasing\",\n",
    "    metabolites_to_add={\n",
    "        \"pgi_f6p_c\": -1,\n",
    "        \"f6p_c\": 1,\n",
    "        \"pgi_c\": 1})\n",
    "\n",
    "for reaction in PGI.enzyme_module_reactions:\n",
    "    print(reaction)\n",
    "    \n",
    "print('\\n')\n",
    "for group in PGI.enzyme_module_reactions_categorized:\n",
    "    print(\"{0}: {1}\".format(\n",
    "        group.id, str(sorted([m.id for m in group.members]))))"
   ]
  },
  {
   "cell_type": "code",
   "execution_count": 7,
   "id": "03359f2b",
   "metadata": {},
   "outputs": [
    {
     "data": {
      "text/html": [
       "<div>\n",
       "<style scoped>\n",
       "    .dataframe tbody tr th:only-of-type {\n",
       "        vertical-align: middle;\n",
       "    }\n",
       "\n",
       "    .dataframe tbody tr th {\n",
       "        vertical-align: top;\n",
       "    }\n",
       "\n",
       "    .dataframe thead th {\n",
       "        text-align: right;\n",
       "    }\n",
       "</style>\n",
       "<table border=\"1\" class=\"dataframe\">\n",
       "  <thead>\n",
       "    <tr style=\"text-align: right;\">\n",
       "      <th></th>\n",
       "      <th>PGI_1</th>\n",
       "      <th>PGI_2</th>\n",
       "      <th>PGI_3</th>\n",
       "    </tr>\n",
       "  </thead>\n",
       "  <tbody>\n",
       "    <tr>\n",
       "      <th>pgi_c</th>\n",
       "      <td>-1</td>\n",
       "      <td>0</td>\n",
       "      <td>1</td>\n",
       "    </tr>\n",
       "    <tr>\n",
       "      <th>pgi_g6p_c</th>\n",
       "      <td>1</td>\n",
       "      <td>-1</td>\n",
       "      <td>0</td>\n",
       "    </tr>\n",
       "    <tr>\n",
       "      <th>pgi_f6p_c</th>\n",
       "      <td>0</td>\n",
       "      <td>1</td>\n",
       "      <td>-1</td>\n",
       "    </tr>\n",
       "  </tbody>\n",
       "</table>\n",
       "</div>"
      ],
      "text/plain": [
       "           PGI_1  PGI_2  PGI_3\n",
       "pgi_c         -1      0      1\n",
       "pgi_g6p_c      1     -1      0\n",
       "pgi_f6p_c      0      1     -1"
      ]
     },
     "execution_count": 7,
     "metadata": {},
     "output_type": "execute_result"
    }
   ],
   "source": [
    "PGI.update_S(array_type='DataFrame',dtype=int)\n",
    "PGI.S[2:]"
   ]
  },
  {
   "cell_type": "code",
   "execution_count": 8,
   "id": "efb3d2ba",
   "metadata": {},
   "outputs": [
    {
     "name": "stdout",
     "output_type": "stream",
     "text": [
      "Rank Deficiency: 1\n"
     ]
    }
   ],
   "source": [
    "ode_dict = {\n",
    "    enzyme_form.id: Eq(strip_time(enzyme_form.ode), 0)\n",
    "    for enzyme_form in PGI.enzyme_module_forms}\n",
    "# Matrix rank of enzyme stoichiometric matrix without substrates\n",
    "rank = matrix_rank(PGI.S[2:])\n",
    "print(\"Rank Deficiency: {0}\".format(len(ode_dict) - rank))"
   ]
  },
  {
   "cell_type": "code",
   "execution_count": 9,
   "id": "bc30d031",
   "metadata": {},
   "outputs": [],
   "source": [
    "enzyme_solutions = {}\n",
    "for enzyme_form in PGI.enzyme_module_forms:\n",
    "    # Skip dependent variable\n",
    "    if enzyme_form.id == \"pgi_c\":\n",
    "        continue\n",
    "    # Get the ODE for the enzyme form from the ODE dict\n",
    "    equation = ode_dict[enzyme_form.id]\n",
    "    # Solve the equation for the enzyme form, substituting\n",
    "    # previously found enzyme form solutions into the equation\n",
    "    solution = solveset(equation.subs(enzyme_solutions),\n",
    "                        enzyme_form.id)\n",
    "    # Store the solution\n",
    "    enzyme_solutions[enzyme_form.id] = list(solution)[0]\n",
    "    # Substitute the new solution into existing solutions\n",
    "    enzyme_solutions.update({\n",
    "        enzyme_form: sol.subs(enzyme_solutions)\n",
    "        for enzyme_form, sol in enzyme_solutions.items()})\n",
    "\n",
    "args = set()\n",
    "for solution in enzyme_solutions.values():\n",
    "    args.update(solution.atoms(Symbol))"
   ]
  },
  {
   "cell_type": "markdown",
   "id": "347a77c3",
   "metadata": {},
   "source": [
    "## Define the rate constant"
   ]
  },
  {
   "cell_type": "code",
   "execution_count": 10,
   "id": "057dcbc6",
   "metadata": {},
   "outputs": [
    {
     "name": "stdout",
     "output_type": "stream",
     "text": [
      "kf_PGI_2*(Keq_PGI_2*pgi_g6p_c(t) - pgi_f6p_c(t))/Keq_PGI_2\n"
     ]
    }
   ],
   "source": [
    "# Get the catalyzation reactions\n",
    "catalyzation_group = PGI.enzyme_module_reactions_categorized.get_by_id(\n",
    "    \"catalyzation\")\n",
    "\n",
    "PGI.make_enzyme_rate_equation(catalyzation_group.members,\n",
    "                               use_rates=True,\n",
    "                               update_enzyme=True)\n",
    "\n",
    "print(PGI.enzyme_rate_equation)"
   ]
  },
  {
   "cell_type": "code",
   "execution_count": 11,
   "id": "0d3ea494",
   "metadata": {},
   "outputs": [
    {
     "name": "stdout",
     "output_type": "stream",
     "text": [
      "v_PGI - kf_PGI_2*(Keq_PGI_2*pgi_g6p_c - pgi_f6p_c)/Keq_PGI_2\n"
     ]
    }
   ],
   "source": [
    "enzyme_rate_equation = strip_time(PGI.enzyme_rate_error(use_values=False))\n",
    "print(enzyme_rate_equation)"
   ]
  },
  {
   "cell_type": "code",
   "execution_count": 12,
   "id": "71eadf37",
   "metadata": {},
   "outputs": [
    {
     "name": "stdout",
     "output_type": "stream",
     "text": [
      "{v_PGI, kf_PGI_3, kf_PGI_2, kf_PGI_1, f6p_c, Keq_PGI_2, Keq_PGI_1, g6p_c, Keq_PGI_3}\n"
     ]
    }
   ],
   "source": [
    "# Solve for last unknown concentration symbolically\n",
    "solution = solveset(enzyme_rate_equation.subs(enzyme_solutions),\n",
    "                    \"pgi_c\")\n",
    "\n",
    "# Update solution dictionary with the new solution\n",
    "enzyme_solutions[\"pgi_c\"] = list(solution)[0]\n",
    "\n",
    "# Update solutions with free variable solutions\n",
    "enzyme_solutions = {\n",
    "    enzyme_form: simplify(solution.subs(enzyme_solutions))\n",
    "    for enzyme_form, solution in enzyme_solutions.items()}\n",
    "\n",
    "args = set()\n",
    "for solution in enzyme_solutions.values():\n",
    "    args.update(solution.atoms(Symbol))\n",
    "print(args)"
   ]
  },
  {
   "cell_type": "code",
   "execution_count": 13,
   "id": "034ad6c1",
   "metadata": {},
   "outputs": [],
   "source": [
    "numerical_values = {\n",
    "    \"Keq_PGI_1\": 1/0.85,\n",
    "    \"Keq_PGI_2\": 2.97863,\n",
    "    \"Keq_PGI_3\": 0.117}\n",
    "# Update the model with the parameters\n",
    "PGI.update_parameters(numerical_values)"
   ]
  },
  {
   "cell_type": "code",
   "execution_count": 14,
   "id": "405c5548",
   "metadata": {},
   "outputs": [],
   "source": [
    "# import rbc model\n",
    "from os.path import join\n",
    "\n",
    "core_rbc = json.load_json_model(join(\"\", \"../models/RBC_RBC.json\"))"
   ]
  },
  {
   "cell_type": "code",
   "execution_count": 15,
   "id": "5b74452c",
   "metadata": {},
   "outputs": [
    {
     "data": {
      "text/plain": [
       "{'Keq_PGI_1': 1.1764705882352942,\n",
       " 'Keq_PGI_2': 2.97863,\n",
       " 'Keq_PGI_3': 0.117,\n",
       " 'v_PGI': 0.909963254543603,\n",
       " 'g6p_c': 0.06307567680845606,\n",
       " 'f6p_c': 0.025735032579299412}"
      ]
     },
     "execution_count": 15,
     "metadata": {},
     "output_type": "execute_result"
    }
   ],
   "source": [
    "# Get steady state flux for EnzymeModule\n",
    "PGI.enzyme_rate = core_rbc.reactions.get_by_id(\"PGI\").steady_state_flux\n",
    "numerical_values[PGI.enzyme_flux_symbol_str] = PGI.enzyme_rate\n",
    "\n",
    "# Get the ligand concentrations\n",
    "for met in PGI.enzyme_module_ligands:\n",
    "    concentration = core_rbc.metabolites.get_by_id(met.id).initial_condition\n",
    "    # Set the ligand initial condition and add to numercal values dictionary\n",
    "    met.initial_condition = concentration\n",
    "    numerical_values[met.id] = concentration\n",
    "    \n",
    "numerical_values"
   ]
  },
  {
   "cell_type": "markdown",
   "id": "35d62e74",
   "metadata": {},
   "source": [
    "## Approximate rate constant"
   ]
  },
  {
   "cell_type": "code",
   "execution_count": 16,
   "id": "c1e16cc4",
   "metadata": {},
   "outputs": [
    {
     "name": "stdout",
     "output_type": "stream",
     "text": [
      "{kf_PGI_3, kf_PGI_2, kf_PGI_1}\n"
     ]
    }
   ],
   "source": [
    "enzyme_solutions = {\n",
    "    enzyme_form: simplify(sol.subs(numerical_values))\n",
    "    for enzyme_form, sol in enzyme_solutions.items()}\n",
    "\n",
    "args = set()\n",
    "for solution in enzyme_solutions.values():\n",
    "    args.update(solution.atoms(Symbol))\n",
    "print(args)"
   ]
  },
  {
   "cell_type": "code",
   "execution_count": 17,
   "id": "843a853c",
   "metadata": {},
   "outputs": [
    {
     "name": "stdout",
     "output_type": "stream",
     "text": [
      "Abs(-PGI_Total + pgi_c + pgi_f6p_c + pgi_g6p_c)\n"
     ]
    }
   ],
   "source": [
    "enzyme_total_error = abs(\n",
    "    Symbol(PGI.enzyme_total_symbol_str)\n",
    "    - strip_time(PGI.enzyme_concentration_total_equation))\n",
    "print(enzyme_total_error)"
   ]
  },
  {
   "cell_type": "code",
   "execution_count": 18,
   "id": "22421cf6",
   "metadata": {},
   "outputs": [
    {
     "name": "stdout",
     "output_type": "stream",
     "text": [
      "Abs(-7.8e-5 + 1094.66554435738/kf_PGI_3 + 3257.89318654035/kf_PGI_2 + 3831.74496857154/kf_PGI_1)\n"
     ]
    }
   ],
   "source": [
    "PGI.enzyme_concentration_total = 0.000078 \n",
    "enzyme_total_error = enzyme_total_error.subs({\n",
    "    PGI.enzyme_total_symbol_str: PGI.enzyme_concentration_total})\n",
    "\n",
    "enzyme_total_error = simplify(enzyme_total_error.subs(enzyme_solutions))\n",
    "\n",
    "print(enzyme_total_error)"
   ]
  },
  {
   "cell_type": "code",
   "execution_count": 19,
   "id": "a91c9a6a",
   "metadata": {},
   "outputs": [],
   "source": [
    "# Sort the arguments to ensure input format remains consistent\n",
    "args = sorted(list(map(str, args)))\n",
    "# Use lambdify to make objective function as a lambda function\n",
    "obj_fun = lambda x: lambdify(args, enzyme_total_error)(*x)"
   ]
  },
  {
   "cell_type": "code",
   "execution_count": 20,
   "id": "08b3af39",
   "metadata": {},
   "outputs": [
    {
     "name": "stdout",
     "output_type": "stream",
     "text": [
      "`gtol` termination condition is satisfied.\n",
      "Number of iterations: 51, function evaluations: 192, CG iterations: 46, optimality: 8.80e-13, constraint violation: 2.01e-14, execution time:  1.2 s.\n",
      "\n",
      "Optimization Success: True\n",
      "Optimization Optimality: 8.7991e-13\n",
      "Parameter Solutions: {'kf_PGI_1': 104209027.064224, 'kf_PGI_2': 104921052.25848953, 'kf_PGI_3': 107538388.21597564}\n",
      "Concentration Error: 2.0125e-14\n",
      "{'kf_PGI_1': 104209027.064224, 'kf_PGI_2': 104921052.25848953, 'kf_PGI_3': 107538388.21597564}\n"
     ]
    }
   ],
   "source": [
    "from scipy.optimize import minimize\n",
    "\n",
    "# Minimize the objective function, initial guess based on publication values\n",
    "initial_guess = [1e8, 1e8, 1e8]\n",
    "variable_bounds = ((0, 1e9), (0, 1e9), (0, 1e9))\n",
    "solution = minimize(obj_fun, x0=initial_guess,\n",
    "                    method=\"trust-constr\",\n",
    "                    bounds=variable_bounds, \n",
    "                    constraints={\"type\": \"eq\", \"fun\": obj_fun}, \n",
    "                    options={\"gtol\": 1e-12, \"xtol\": 1e-12, \"maxiter\": 1e4, \"disp\": True})\n",
    "\n",
    "print(\"\\nOptimization Success: {0}\".format(solution.success))\n",
    "\n",
    "if solution.success:\n",
    "    #Update the parameter values dictionary with the feasible solution\n",
    "    rate_constants = dict(zip(args, solution.x))\n",
    "    print(\"Optimization Optimality: {0:.4e}\".format(solution.optimality))\n",
    "    print(\"Parameter Solutions: {:}\".format(str({arg:rate_constants[arg] for arg in args})))\n",
    "    #Plug solutions back into constraints for validation\n",
    "    print(\"Concentration Error: {0:.4e}\".format(enzyme_total_error.subs(rate_constants)))\n",
    "    \n",
    "# Map solution array to variables\n",
    "print(rate_constants)"
   ]
  },
  {
   "cell_type": "code",
   "execution_count": 21,
   "id": "2e397bfa",
   "metadata": {},
   "outputs": [],
   "source": [
    "PGI.update_parameters(rate_constants)"
   ]
  },
  {
   "cell_type": "code",
   "execution_count": 22,
   "id": "2a3fcc98",
   "metadata": {},
   "outputs": [
    {
     "name": "stdout",
     "output_type": "stream",
     "text": [
      "pgi_g6p_c: 4.462309e-06\n",
      "pgi_f6p_c: 1.326573e-05\n",
      "pgi_c: 6.027196e-05\n"
     ]
    }
   ],
   "source": [
    "for enzyme_form, solution in enzyme_solutions.items():\n",
    "    # Get the enzyme form object, determine the steady state concentration\n",
    "    enzyme_form = PGI.enzyme_module_forms.get_by_id(enzyme_form)\n",
    "    enzyme_form.initial_condition = float(solution.subs(rate_constants))\n",
    "    print(\"{0}: {1:e}\".format(enzyme_form.id,\n",
    "                              enzyme_form.initial_condition))"
   ]
  },
  {
   "cell_type": "markdown",
   "id": "0f35d091",
   "metadata": {},
   "source": [
    "## Error value"
   ]
  },
  {
   "cell_type": "code",
   "execution_count": 23,
   "id": "2b91d7f2",
   "metadata": {},
   "outputs": [
    {
     "name": "stdout",
     "output_type": "stream",
     "text": [
      "Total Enzyme Concentration Error: 2.01247701432628e-14\n"
     ]
    }
   ],
   "source": [
    "print(\"Total Enzyme Concentration Error: {0}\".format(\n",
    "    PGI.enzyme_concentration_total_error(use_values=True)))"
   ]
  },
  {
   "cell_type": "code",
   "execution_count": 24,
   "id": "813319d0",
   "metadata": {},
   "outputs": [
    {
     "name": "stdout",
     "output_type": "stream",
     "text": [
      "Enzyme Rate Error: 1.9206858326015208e-14\n"
     ]
    }
   ],
   "source": [
    "print(\"Enzyme Rate Error: {0}\".format(\n",
    "    PGI.enzyme_rate_error(use_values=True)))"
   ]
  },
  {
   "cell_type": "markdown",
   "id": "6cc3dd05",
   "metadata": {},
   "source": [
    "## Quality Control and Assurance Check"
   ]
  },
  {
   "cell_type": "code",
   "execution_count": 25,
   "id": "b8cd8fb8",
   "metadata": {},
   "outputs": [
    {
     "name": "stdout",
     "output_type": "stream",
     "text": [
      "╒══════════════════════════════════════════╕\n",
      "│ MODEL ID: PGI                            │\n",
      "│ SIMULATABLE: True                        │\n",
      "│ PARAMETERS NUMERICALY CONSISTENT: True   │\n",
      "╞══════════════════════════════════════════╡\n",
      "╘══════════════════════════════════════════╛\n"
     ]
    }
   ],
   "source": [
    "qcqa_model(PGI, parameters=True, concentrations=True,\n",
    "           fluxes=False, superfluous=True, elemental=True)"
   ]
  },
  {
   "cell_type": "markdown",
   "id": "74ede83b",
   "metadata": {},
   "source": [
    "## Validation by adding to core_rbc"
   ]
  },
  {
   "cell_type": "code",
   "execution_count": 26,
   "id": "2f74765f",
   "metadata": {},
   "outputs": [],
   "source": [
    "core_rbc_PGI = core_rbc.merge(PGI, inplace=False)\n",
    "core_rbc_PGI.remove_reactions([\n",
    "    core_rbc_PGI.reactions.get_by_id(\"PGI\")])"
   ]
  },
  {
   "cell_type": "code",
   "execution_count": 27,
   "id": "c88edf3e",
   "metadata": {},
   "outputs": [
    {
     "data": {
      "text/html": [
       "\n",
       "            <table>\n",
       "                <tr>\n",
       "                    <td><strong>Name</strong></td><td>RBC_PGI</td>\n",
       "                </tr><tr>\n",
       "                    <td><strong>Memory address</strong></td><td>0x07f9197e2c9d0</td>\n",
       "                </tr><tr>\n",
       "                    <td><strong>Stoichiometric Matrix</strong></td>\n",
       "                    <td>51x55</td>\n",
       "                </tr><tr>\n",
       "                    <td><strong>Matrix Rank</strong></td>\n",
       "                    <td>46</td>\n",
       "                </tr><tr>\n",
       "                    <td><strong>Number of metabolites</strong></td>\n",
       "                    <td>51</td>\n",
       "                </tr><tr>\n",
       "                    <td><strong>Initial conditions defined</strong></td>\n",
       "                    <td>51/51</td>\n",
       "                </tr><tr>\n",
       "                    <td><strong>Number of reactions</strong></td>\n",
       "                    <td>55</td>\n",
       "                </tr><tr>\n",
       "                    <td><strong>Number of genes</strong></td>\n",
       "                    <td>0</td>\n",
       "                </tr><tr>\n",
       "                    <td><strong>Number of enzyme modules</strong></td>\n",
       "                    <td>1</td>\n",
       "                </tr><tr>\n",
       "                    <td><strong>Number of groups</strong></td>\n",
       "                    <td>6</td>\n",
       "                </tr><tr>\n",
       "                    <td><strong>Objective expression</strong></td>\n",
       "                    <td>0</td>\n",
       "                </tr><tr>\n",
       "                    <td><strong>Compartments</strong></td>\n",
       "                    <td>Cytosol</td>\n",
       "                </tr>\n",
       "            </table>\n",
       "        "
      ],
      "text/plain": [
       "<MassModel RBC_PGI at 0x7f9197e2c9d0>"
      ]
     },
     "execution_count": 27,
     "metadata": {},
     "output_type": "execute_result"
    }
   ],
   "source": [
    "core_rbc_PGI"
   ]
  },
  {
   "cell_type": "code",
   "execution_count": 28,
   "id": "b005b8f4",
   "metadata": {},
   "outputs": [
    {
     "name": "stderr",
     "output_type": "stream",
     "text": [
      "/opt/conda/lib/python3.7/site-packages/roadrunner/roadrunner.py:3944 \u001b[1;31mUserWarning\u001b[0m: Simulation requested end point (100000000.0) not reached, because the maximum number of steps reached.  Possible solutions include:\n",
      "  * Setting an explicit number of points (i.e. r.simulate(0, 100000000.0, 1001)\n",
      "  * Setting r.integrator.variable_step_size to 'False'\n",
      "* Setting \n",
      "/opt/conda/lib/python3.7/site-packages/roadrunner/roadrunner.py:3957 \u001b[1;31mUserWarning\u001b[0m: Simulation returned more points than max output rows specified. Try incresing the number of maximum output rows or minimum step size.\n"
     ]
    },
    {
     "data": {
      "image/png": "[encoded data removed]",
      "text/plain": [
       "<Figure size 432x288 with 1 Axes>"
      ]
     },
     "metadata": {
      "needs_background": "light"
     },
     "output_type": "display_data"
    }
   ],
   "source": [
    "t0, tf = (0, 1e3)\n",
    "sim_core_rbc_PGI = Simulation(core_rbc_PGI)\n",
    "sim_core_rbc_PGI.find_steady_state(\n",
    "    core_rbc_PGI, strategy=\"simulate\",\n",
    "    update_values=True)\n",
    "conc_sol_ss, flux_sol_ss = sim_core_rbc_PGI.simulate(\n",
    "    core_rbc_PGI, time=(t0, tf, tf*10 + 1))\n",
    "\n",
    "# Quickly render and display time profiles\n",
    "conc_sol_ss.view_time_profile()"
   ]
  },
  {
   "cell_type": "code",
   "execution_count": 29,
   "id": "7c00446a",
   "metadata": {},
   "outputs": [
    {
     "data": {
      "image/png": "[encoded data removed]",
      "text/plain": [
       "<Figure size 432x288 with 1 Axes>"
      ]
     },
     "metadata": {
      "needs_background": "light"
     },
     "output_type": "display_data"
    }
   ],
   "source": [
    "conc_sol_ss.view_time_profile(plot_function=\"semilogx\")"
   ]
  },
  {
   "cell_type": "markdown",
   "id": "1a648792",
   "metadata": {},
   "source": [
    "## Export Model"
   ]
  },
  {
   "cell_type": "code",
   "execution_count": 30,
   "id": "842d5d9b",
   "metadata": {},
   "outputs": [],
   "source": [
    "for group in PGI.groups:\n",
    "    group.id = \"_\".join((PGI.id, group.id))\n",
    "\n",
    "# Export as JSON\n",
    "\n",
    "path_to_json_model = \"../models/PGI_PGI.json\"\n",
    "mass.io.json.save_json_model(PGI, filename=path_to_json_model)"
   ]
  }
 ],
 "metadata": {
  "kernelspec": {
   "display_name": "Python 3 (ipykernel)",
   "language": "python",
   "name": "python3"
  },
  "language_info": {
   "codemirror_mode": {
    "name": "ipython",
    "version": 3
   },
   "file_extension": ".py",
   "mimetype": "text/x-python",
   "name": "python",
   "nbconvert_exporter": "python",
   "pygments_lexer": "ipython3",
   "version": "3.9.13"
  }
 },
 "nbformat": 4,
 "nbformat_minor": 5
}
