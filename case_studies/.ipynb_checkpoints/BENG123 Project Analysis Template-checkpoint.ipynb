{
 "cells": [
  {
   "cell_type": "markdown",
   "metadata": {},
   "source": [
    "# BENG123 Final Project: Analysis Template\n",
    "## Instructions\n",
    "\n",
    "1. All simulations and figures that you wish to put in the final report should be done in here.\n",
    "Each figure generated must be displayed when the notebook is run. It is recommended to use one cell per figure generated. \n",
    "\n",
    "\n",
    "2. A template has been provided to you below to help with code organization. However, you are free to delete the template and use your own organization in this notebook. The only requirement is that this notebook is organized in a logical manner with descriptive headers to help provide clarity. One file can be submitted with all three case studies, or three files can be submitted seperately.\n",
    "\n",
    "\n",
    "3. Remember to save all figures you wish to include as a .jpeg or .png file and be sure to include them in the zip file of your final submission. All figures in the final report should have figure numbers, appropriate axis labels, limits and scale, legends and captions, and be referred in the text.\n",
    "\n",
    "## Import Packages & Set Globals"
   ]
  },
  {
   "cell_type": "code",
   "execution_count": 1,
   "metadata": {},
   "outputs": [],
   "source": [
    "# Import stuff\n",
    "\n",
    "from mass import (MassModel, MassMetabolite, MassReaction, Simulation, MassSolution, strip_time)\n",
    "from mass.test import create_test_model\n",
    "from mass.util.matrix import nullspace, left_nullspace, matrix_rank\n",
    "from mass.visualization import (plot_time_profile, plot_phase_portrait, plot_tiled_phase_portraits)\n",
    "from mass.io import json, sbml\n",
    "from mass.enzyme_modules import EnzymeModule\n",
    "\n",
    "from os import path\n",
    "\n",
    "from cobra import DictList\n",
    "import matplotlib as mpl\n",
    "import matplotlib.pyplot as plt\n",
    "import numpy as np\n",
    "import pandas as pd\n",
    "\n",
    "pd.set_option(\"display.max_rows\", 100)\n",
    "pd.set_option(\"display.max_columns\", 100)\n",
    "pd.set_option('display.max_colwidth', None)\n",
    "pd.options.display.float_format = '{:,.3f}'.format\n",
    "S_FONT = {\"size\": \"small\"}\n",
    "L_FONT = {\"size\": \"large\"}\n",
    "INF = float(\"inf\")\n",
    "import sympy as sym\n",
    "\n",
    "# Set some options - feel free to mess around with this to further beautify your displays\n",
    "\n",
    "pd.set_option(\"display.max_rows\", 100)\n",
    "pd.set_option(\"display.max_columns\", 100)\n",
    "pd.set_option('display.max_colwidth', None)\n",
    "pd.options.display.float_format = '{:,.3f}'.format\n",
    "S_FONT = {\"size\": \"small\"}\n",
    "L_FONT = {\"size\": \"large\"}\n",
    "INF = float(\"inf\")"
   ]
  },
  {
   "cell_type": "markdown",
   "metadata": {},
   "source": [
    "## Import  Models for Analysis\n",
    "To assist in the export/import process, some code and instructions have been provided for you. **Please keep in mind that the code assumes that the model objects will be exported/imported from the same directory where this notebook exits.** \n",
    "\n",
    "The base and integrated model objects will be stored as variables ``BASELINE_MODEL`` AND ``INTEGRATED_MODEL``. respectively"
   ]
  },
  {
   "cell_type": "markdown",
   "metadata": {},
   "source": [
    "### Set Model IDs\n",
    "* Set the variable ``MY_BASELINE_MODEL_ID`` to a string of the baseline model's identifier in order to import the model to the current directory.\n",
    "* Set the variable ``MY_INTEGRATED_MODEL_ID`` to a string of the integrated model's identifier in order to import the model to the current directory."
   ]
  },
  {
   "cell_type": "code",
   "execution_count": 1,
   "metadata": {},
   "outputs": [],
   "source": [
    "# example: MY_BASELINE_MODEL_ID = \"RBC_PFK_G6PDH2r\"\n",
    "\n",
    "MY_BASELINE_MODEL_ID = \"RBC\"\n",
    "MY_INTEGRATED_MODEL_ID = \"RBC_PGI_PGK_GND\"\n",
    "#can add more model IDs for more models"
   ]
  },
  {
   "cell_type": "markdown",
   "metadata": {},
   "source": [
    "### Import Models"
   ]
  },
  {
   "cell_type": "code",
   "execution_count": 6,
   "metadata": {},
   "outputs": [
    {
     "name": "stderr",
     "output_type": "stream",
     "text": [
      "Ignoring group 'products' since it already exists.\n",
      "Ignoring group 'substrates' since it already exists.\n",
      "Ignoring group 'Active' since it already exists.\n",
      "Ignoring group 'catalyzation' since it already exists.\n",
      "Ignoring group 'cofactors' since it already exists.\n",
      "Ignoring group 'inhibitors' since it already exists.\n",
      "Ignoring group 'products' since it already exists.\n",
      "Ignoring group 'substrates' since it already exists.\n",
      "Ignoring group 'Active' since it already exists.\n",
      "Ignoring group 'catalyzation' since it already exists.\n"
     ]
    },
    {
     "name": "stdout",
     "output_type": "stream",
     "text": [
      "Loaded RBC Model with ID: RBC\n",
      "Loaded INTEGRATED Model with ID: RBC_PGI_PGK_GND\n"
     ]
    }
   ],
   "source": [
    "from mass.io import json\n",
    "\n",
    "#add extra model IDS below\n",
    "models = []\n",
    "for model_id, model_type in zip([MY_BASELINE_MODEL_ID, MY_INTEGRATED_MODEL_ID], [\"RBC\", \"INTEGRATED\"]):\n",
    "    filepath = \"./{0}_{1}.json\".format(model_id, model_type)\n",
    "    models.append(json.load_json_model(filepath))\n",
    "    print(\"Loaded {0} Model with ID: {1}\".format(model_type, model_id))\n",
    "core_rbc, RBC_PGI_PGK_GND = models\n",
    "\n"
   ]
  },
  {
   "cell_type": "markdown",
   "metadata": {},
   "source": [
    "# Simulation Case Study"
   ]
  },
  {
   "cell_type": "markdown",
   "metadata": {},
   "source": [
    "## Figure 1"
   ]
  },
  {
   "cell_type": "code",
   "execution_count": null,
   "metadata": {},
   "outputs": [],
   "source": []
  },
  {
   "cell_type": "markdown",
   "metadata": {},
   "source": [
    "## Figure 2"
   ]
  },
  {
   "cell_type": "code",
   "execution_count": null,
   "metadata": {},
   "outputs": [],
   "source": []
  },
  {
   "cell_type": "markdown",
   "metadata": {},
   "source": [
    "## Figure 3"
   ]
  },
  {
   "cell_type": "code",
   "execution_count": null,
   "metadata": {},
   "outputs": [],
   "source": []
  }
 ],
 "metadata": {
  "kernelspec": {
   "display_name": "Python 3",
   "language": "python",
   "name": "python3"
  },
  "language_info": {
   "codemirror_mode": {
    "name": "ipython",
    "version": 3
   },
   "file_extension": ".py",
   "mimetype": "text/x-python",
   "name": "python",
   "nbconvert_exporter": "python",
   "pygments_lexer": "ipython3",
   "version": "3.7.7"
  }
 },
 "nbformat": 4,
 "nbformat_minor": 2
}
